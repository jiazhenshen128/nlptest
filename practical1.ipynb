{
 "cells": [
  {
   "cell_type": "markdown",
   "metadata": {},
   "source": [
    "## Practical 1: word2vec\n",
    "<p>Oxford CS - Deep NLP 2017<br>\n",
    "https://www.cs.ox.ac.uk/teaching/courses/2016-2017/dl/</p>\n",
    "<p>[Yannis Assael, Brendan Shillingford, Chris Dyer]</p>"
   ]
  },
  {
   "cell_type": "markdown",
   "metadata": {},
   "source": [
    "This practical is presented as an IPython Notebook, with the code written for recent versions of **Python 3**. The code in this practical will not work with Python 2 unless you modify it. If you are using your own Python installation, ensure you have a setup identical to that described in the installation shell script (which is intended for use with the department lab machines). We will be unable to support installation on personal machines due to time constraints, so please use the lab machines and the setup script if you are unfamiliar with how to install Anaconda.\n",
    "\n",
    "To execute a notebook cell, press `shift-enter`. The return value of the last command will be displayed, if it is not `None`.\n",
    "\n",
    "Potentially useful library documentation, references, and resources:\n",
    "\n",
    "* IPython notebooks: <https://ipython.org/ipython-doc/3/notebook/notebook.html#introduction>\n",
    "* Numpy numerical array library: <https://docs.scipy.org/doc/>\n",
    "* Gensim's word2vec: <https://radimrehurek.com/gensim/models/word2vec.html>\n",
    "* Bokeh interactive plots: <http://bokeh.pydata.org/en/latest/> (we provide plotting code here, but click the thumbnails for more examples to copy-paste)\n",
    "* scikit-learn ML library (aka `sklearn`): <http://scikit-learn.org/stable/documentation.html>\n",
    "* nltk NLP toolkit: <http://www.nltk.org/>\n",
    "* tutorial for processing xml in python using `lxml`: <http://lxml.de/tutorial.html> (we did this for you below, but in case you need it in the future)"
   ]
  },
  {
   "cell_type": "code",
   "execution_count": 1,
   "metadata": {},
   "outputs": [],
   "source": [
    "import numpy as np\n",
    "import os\n",
    "from random import shuffle\n",
    "import re"
   ]
  },
  {
   "cell_type": "code",
   "execution_count": 2,
   "metadata": {},
   "outputs": [
    {
     "data": {
      "text/html": [
       "\n",
       "    <div class=\"bk-root\">\n",
       "        <a href=\"https://bokeh.pydata.org\" target=\"_blank\" class=\"bk-logo bk-logo-small bk-logo-notebook\"></a>\n",
       "        <span id=\"c9cb07d1-24d5-41c4-a267-2834f1e63bd0\">Loading BokehJS ...</span>\n",
       "    </div>"
      ]
     },
     "metadata": {},
     "output_type": "display_data"
    },
    {
     "data": {
      "application/javascript": [
       "\n",
       "(function(root) {\n",
       "  function now() {\n",
       "    return new Date();\n",
       "  }\n",
       "\n",
       "  var force = true;\n",
       "\n",
       "  if (typeof (root._bokeh_onload_callbacks) === \"undefined\" || force === true) {\n",
       "    root._bokeh_onload_callbacks = [];\n",
       "    root._bokeh_is_loading = undefined;\n",
       "  }\n",
       "\n",
       "  var JS_MIME_TYPE = 'application/javascript';\n",
       "  var HTML_MIME_TYPE = 'text/html';\n",
       "  var EXEC_MIME_TYPE = 'application/vnd.bokehjs_exec.v0+json';\n",
       "  var CLASS_NAME = 'output_bokeh rendered_html';\n",
       "\n",
       "  /**\n",
       "   * Render data to the DOM node\n",
       "   */\n",
       "  function render(props, node) {\n",
       "    var script = document.createElement(\"script\");\n",
       "    node.appendChild(script);\n",
       "  }\n",
       "\n",
       "  /**\n",
       "   * Handle when an output is cleared or removed\n",
       "   */\n",
       "  function handleClearOutput(event, handle) {\n",
       "    var cell = handle.cell;\n",
       "\n",
       "    var id = cell.output_area._bokeh_element_id;\n",
       "    var server_id = cell.output_area._bokeh_server_id;\n",
       "    // Clean up Bokeh references\n",
       "    if (id !== undefined) {\n",
       "      Bokeh.index[id].model.document.clear();\n",
       "      delete Bokeh.index[id];\n",
       "    }\n",
       "\n",
       "    if (server_id !== undefined) {\n",
       "      // Clean up Bokeh references\n",
       "      var cmd = \"from bokeh.io.state import curstate; print(curstate().uuid_to_server['\" + server_id + \"'].get_sessions()[0].document.roots[0]._id)\";\n",
       "      cell.notebook.kernel.execute(cmd, {\n",
       "        iopub: {\n",
       "          output: function(msg) {\n",
       "            var element_id = msg.content.text.trim();\n",
       "            Bokeh.index[element_id].model.document.clear();\n",
       "            delete Bokeh.index[element_id];\n",
       "          }\n",
       "        }\n",
       "      });\n",
       "      // Destroy server and session\n",
       "      var cmd = \"import bokeh.io.notebook as ion; ion.destroy_server('\" + server_id + \"')\";\n",
       "      cell.notebook.kernel.execute(cmd);\n",
       "    }\n",
       "  }\n",
       "\n",
       "  /**\n",
       "   * Handle when a new output is added\n",
       "   */\n",
       "  function handleAddOutput(event, handle) {\n",
       "    var output_area = handle.output_area;\n",
       "    var output = handle.output;\n",
       "\n",
       "    // limit handleAddOutput to display_data with EXEC_MIME_TYPE content only\n",
       "    if ((output.output_type != \"display_data\") || (!output.data.hasOwnProperty(EXEC_MIME_TYPE))) {\n",
       "      return\n",
       "    }\n",
       "\n",
       "    var toinsert = output_area.element.find(`.${CLASS_NAME.split(' ')[0]}`);\n",
       "\n",
       "    if (output.metadata[EXEC_MIME_TYPE][\"id\"] !== undefined) {\n",
       "      toinsert[0].firstChild.textContent = output.data[JS_MIME_TYPE];\n",
       "      // store reference to embed id on output_area\n",
       "      output_area._bokeh_element_id = output.metadata[EXEC_MIME_TYPE][\"id\"];\n",
       "    }\n",
       "    if (output.metadata[EXEC_MIME_TYPE][\"server_id\"] !== undefined) {\n",
       "      var bk_div = document.createElement(\"div\");\n",
       "      bk_div.innerHTML = output.data[HTML_MIME_TYPE];\n",
       "      var script_attrs = bk_div.children[0].attributes;\n",
       "      for (var i = 0; i < script_attrs.length; i++) {\n",
       "        toinsert[0].firstChild.setAttribute(script_attrs[i].name, script_attrs[i].value);\n",
       "      }\n",
       "      // store reference to server id on output_area\n",
       "      output_area._bokeh_server_id = output.metadata[EXEC_MIME_TYPE][\"server_id\"];\n",
       "    }\n",
       "  }\n",
       "\n",
       "  function register_renderer(events, OutputArea) {\n",
       "\n",
       "    function append_mime(data, metadata, element) {\n",
       "      // create a DOM node to render to\n",
       "      var toinsert = this.create_output_subarea(\n",
       "        metadata,\n",
       "        CLASS_NAME,\n",
       "        EXEC_MIME_TYPE\n",
       "      );\n",
       "      this.keyboard_manager.register_events(toinsert);\n",
       "      // Render to node\n",
       "      var props = {data: data, metadata: metadata[EXEC_MIME_TYPE]};\n",
       "      render(props, toinsert[0]);\n",
       "      element.append(toinsert);\n",
       "      return toinsert\n",
       "    }\n",
       "\n",
       "    /* Handle when an output is cleared or removed */\n",
       "    events.on('clear_output.CodeCell', handleClearOutput);\n",
       "    events.on('delete.Cell', handleClearOutput);\n",
       "\n",
       "    /* Handle when a new output is added */\n",
       "    events.on('output_added.OutputArea', handleAddOutput);\n",
       "\n",
       "    /**\n",
       "     * Register the mime type and append_mime function with output_area\n",
       "     */\n",
       "    OutputArea.prototype.register_mime_type(EXEC_MIME_TYPE, append_mime, {\n",
       "      /* Is output safe? */\n",
       "      safe: true,\n",
       "      /* Index of renderer in `output_area.display_order` */\n",
       "      index: 0\n",
       "    });\n",
       "  }\n",
       "\n",
       "  // register the mime type if in Jupyter Notebook environment and previously unregistered\n",
       "  if (root.Jupyter !== undefined) {\n",
       "    var events = require('base/js/events');\n",
       "    var OutputArea = require('notebook/js/outputarea').OutputArea;\n",
       "\n",
       "    if (OutputArea.prototype.mime_types().indexOf(EXEC_MIME_TYPE) == -1) {\n",
       "      register_renderer(events, OutputArea);\n",
       "    }\n",
       "  }\n",
       "\n",
       "  \n",
       "  if (typeof (root._bokeh_timeout) === \"undefined\" || force === true) {\n",
       "    root._bokeh_timeout = Date.now() + 5000;\n",
       "    root._bokeh_failed_load = false;\n",
       "  }\n",
       "\n",
       "  var NB_LOAD_WARNING = {'data': {'text/html':\n",
       "     \"<div style='background-color: #fdd'>\\n\"+\n",
       "     \"<p>\\n\"+\n",
       "     \"BokehJS does not appear to have successfully loaded. If loading BokehJS from CDN, this \\n\"+\n",
       "     \"may be due to a slow or bad network connection. Possible fixes:\\n\"+\n",
       "     \"</p>\\n\"+\n",
       "     \"<ul>\\n\"+\n",
       "     \"<li>re-rerun `output_notebook()` to attempt to load from CDN again, or</li>\\n\"+\n",
       "     \"<li>use INLINE resources instead, as so:</li>\\n\"+\n",
       "     \"</ul>\\n\"+\n",
       "     \"<code>\\n\"+\n",
       "     \"from bokeh.resources import INLINE\\n\"+\n",
       "     \"output_notebook(resources=INLINE)\\n\"+\n",
       "     \"</code>\\n\"+\n",
       "     \"</div>\"}};\n",
       "\n",
       "  function display_loaded() {\n",
       "    var el = document.getElementById(\"c9cb07d1-24d5-41c4-a267-2834f1e63bd0\");\n",
       "    if (el != null) {\n",
       "      el.textContent = \"BokehJS is loading...\";\n",
       "    }\n",
       "    if (root.Bokeh !== undefined) {\n",
       "      if (el != null) {\n",
       "        el.textContent = \"BokehJS \" + root.Bokeh.version + \" successfully loaded.\";\n",
       "      }\n",
       "    } else if (Date.now() < root._bokeh_timeout) {\n",
       "      setTimeout(display_loaded, 100)\n",
       "    }\n",
       "  }\n",
       "\n",
       "\n",
       "  function run_callbacks() {\n",
       "    try {\n",
       "      root._bokeh_onload_callbacks.forEach(function(callback) { callback() });\n",
       "    }\n",
       "    finally {\n",
       "      delete root._bokeh_onload_callbacks\n",
       "    }\n",
       "    console.info(\"Bokeh: all callbacks have finished\");\n",
       "  }\n",
       "\n",
       "  function load_libs(js_urls, callback) {\n",
       "    root._bokeh_onload_callbacks.push(callback);\n",
       "    if (root._bokeh_is_loading > 0) {\n",
       "      console.log(\"Bokeh: BokehJS is being loaded, scheduling callback at\", now());\n",
       "      return null;\n",
       "    }\n",
       "    if (js_urls == null || js_urls.length === 0) {\n",
       "      run_callbacks();\n",
       "      return null;\n",
       "    }\n",
       "    console.log(\"Bokeh: BokehJS not loaded, scheduling load and callback at\", now());\n",
       "    root._bokeh_is_loading = js_urls.length;\n",
       "    for (var i = 0; i < js_urls.length; i++) {\n",
       "      var url = js_urls[i];\n",
       "      var s = document.createElement('script');\n",
       "      s.src = url;\n",
       "      s.async = false;\n",
       "      s.onreadystatechange = s.onload = function() {\n",
       "        root._bokeh_is_loading--;\n",
       "        if (root._bokeh_is_loading === 0) {\n",
       "          console.log(\"Bokeh: all BokehJS libraries loaded\");\n",
       "          run_callbacks()\n",
       "        }\n",
       "      };\n",
       "      s.onerror = function() {\n",
       "        console.warn(\"failed to load library \" + url);\n",
       "      };\n",
       "      console.log(\"Bokeh: injecting script tag for BokehJS library: \", url);\n",
       "      document.getElementsByTagName(\"head\")[0].appendChild(s);\n",
       "    }\n",
       "  };var element = document.getElementById(\"c9cb07d1-24d5-41c4-a267-2834f1e63bd0\");\n",
       "  if (element == null) {\n",
       "    console.log(\"Bokeh: ERROR: autoload.js configured with elementid 'c9cb07d1-24d5-41c4-a267-2834f1e63bd0' but no matching script tag was found. \")\n",
       "    return false;\n",
       "  }\n",
       "\n",
       "  var js_urls = [\"https://cdn.pydata.org/bokeh/release/bokeh-0.12.10.min.js\", \"https://cdn.pydata.org/bokeh/release/bokeh-widgets-0.12.10.min.js\", \"https://cdn.pydata.org/bokeh/release/bokeh-tables-0.12.10.min.js\", \"https://cdn.pydata.org/bokeh/release/bokeh-gl-0.12.10.min.js\"];\n",
       "\n",
       "  var inline_js = [\n",
       "    function(Bokeh) {\n",
       "      Bokeh.set_log_level(\"info\");\n",
       "    },\n",
       "    \n",
       "    function(Bokeh) {\n",
       "      \n",
       "    },\n",
       "    function(Bokeh) {\n",
       "      console.log(\"Bokeh: injecting CSS: https://cdn.pydata.org/bokeh/release/bokeh-0.12.10.min.css\");\n",
       "      Bokeh.embed.inject_css(\"https://cdn.pydata.org/bokeh/release/bokeh-0.12.10.min.css\");\n",
       "      console.log(\"Bokeh: injecting CSS: https://cdn.pydata.org/bokeh/release/bokeh-widgets-0.12.10.min.css\");\n",
       "      Bokeh.embed.inject_css(\"https://cdn.pydata.org/bokeh/release/bokeh-widgets-0.12.10.min.css\");\n",
       "      console.log(\"Bokeh: injecting CSS: https://cdn.pydata.org/bokeh/release/bokeh-tables-0.12.10.min.css\");\n",
       "      Bokeh.embed.inject_css(\"https://cdn.pydata.org/bokeh/release/bokeh-tables-0.12.10.min.css\");\n",
       "    }\n",
       "  ];\n",
       "\n",
       "  function run_inline_js() {\n",
       "    \n",
       "    if ((root.Bokeh !== undefined) || (force === true)) {\n",
       "      for (var i = 0; i < inline_js.length; i++) {\n",
       "        inline_js[i].call(root, root.Bokeh);\n",
       "      }if (force === true) {\n",
       "        display_loaded();\n",
       "      }} else if (Date.now() < root._bokeh_timeout) {\n",
       "      setTimeout(run_inline_js, 100);\n",
       "    } else if (!root._bokeh_failed_load) {\n",
       "      console.log(\"Bokeh: BokehJS failed to load within specified timeout.\");\n",
       "      root._bokeh_failed_load = true;\n",
       "    } else if (force !== true) {\n",
       "      var cell = $(document.getElementById(\"c9cb07d1-24d5-41c4-a267-2834f1e63bd0\")).parents('.cell').data().cell;\n",
       "      cell.output_area.append_execute_result(NB_LOAD_WARNING)\n",
       "    }\n",
       "\n",
       "  }\n",
       "\n",
       "  if (root._bokeh_is_loading === 0) {\n",
       "    console.log(\"Bokeh: BokehJS loaded, going straight to plotting\");\n",
       "    run_inline_js();\n",
       "  } else {\n",
       "    load_libs(js_urls, function() {\n",
       "      console.log(\"Bokeh: BokehJS plotting callback run at\", now());\n",
       "      run_inline_js();\n",
       "    });\n",
       "  }\n",
       "}(window));"
      ],
      "application/vnd.bokehjs_load.v0+json": "\n(function(root) {\n  function now() {\n    return new Date();\n  }\n\n  var force = true;\n\n  if (typeof (root._bokeh_onload_callbacks) === \"undefined\" || force === true) {\n    root._bokeh_onload_callbacks = [];\n    root._bokeh_is_loading = undefined;\n  }\n\n  \n\n  \n  if (typeof (root._bokeh_timeout) === \"undefined\" || force === true) {\n    root._bokeh_timeout = Date.now() + 5000;\n    root._bokeh_failed_load = false;\n  }\n\n  var NB_LOAD_WARNING = {'data': {'text/html':\n     \"<div style='background-color: #fdd'>\\n\"+\n     \"<p>\\n\"+\n     \"BokehJS does not appear to have successfully loaded. If loading BokehJS from CDN, this \\n\"+\n     \"may be due to a slow or bad network connection. Possible fixes:\\n\"+\n     \"</p>\\n\"+\n     \"<ul>\\n\"+\n     \"<li>re-rerun `output_notebook()` to attempt to load from CDN again, or</li>\\n\"+\n     \"<li>use INLINE resources instead, as so:</li>\\n\"+\n     \"</ul>\\n\"+\n     \"<code>\\n\"+\n     \"from bokeh.resources import INLINE\\n\"+\n     \"output_notebook(resources=INLINE)\\n\"+\n     \"</code>\\n\"+\n     \"</div>\"}};\n\n  function display_loaded() {\n    var el = document.getElementById(\"c9cb07d1-24d5-41c4-a267-2834f1e63bd0\");\n    if (el != null) {\n      el.textContent = \"BokehJS is loading...\";\n    }\n    if (root.Bokeh !== undefined) {\n      if (el != null) {\n        el.textContent = \"BokehJS \" + root.Bokeh.version + \" successfully loaded.\";\n      }\n    } else if (Date.now() < root._bokeh_timeout) {\n      setTimeout(display_loaded, 100)\n    }\n  }\n\n\n  function run_callbacks() {\n    try {\n      root._bokeh_onload_callbacks.forEach(function(callback) { callback() });\n    }\n    finally {\n      delete root._bokeh_onload_callbacks\n    }\n    console.info(\"Bokeh: all callbacks have finished\");\n  }\n\n  function load_libs(js_urls, callback) {\n    root._bokeh_onload_callbacks.push(callback);\n    if (root._bokeh_is_loading > 0) {\n      console.log(\"Bokeh: BokehJS is being loaded, scheduling callback at\", now());\n      return null;\n    }\n    if (js_urls == null || js_urls.length === 0) {\n      run_callbacks();\n      return null;\n    }\n    console.log(\"Bokeh: BokehJS not loaded, scheduling load and callback at\", now());\n    root._bokeh_is_loading = js_urls.length;\n    for (var i = 0; i < js_urls.length; i++) {\n      var url = js_urls[i];\n      var s = document.createElement('script');\n      s.src = url;\n      s.async = false;\n      s.onreadystatechange = s.onload = function() {\n        root._bokeh_is_loading--;\n        if (root._bokeh_is_loading === 0) {\n          console.log(\"Bokeh: all BokehJS libraries loaded\");\n          run_callbacks()\n        }\n      };\n      s.onerror = function() {\n        console.warn(\"failed to load library \" + url);\n      };\n      console.log(\"Bokeh: injecting script tag for BokehJS library: \", url);\n      document.getElementsByTagName(\"head\")[0].appendChild(s);\n    }\n  };var element = document.getElementById(\"c9cb07d1-24d5-41c4-a267-2834f1e63bd0\");\n  if (element == null) {\n    console.log(\"Bokeh: ERROR: autoload.js configured with elementid 'c9cb07d1-24d5-41c4-a267-2834f1e63bd0' but no matching script tag was found. \")\n    return false;\n  }\n\n  var js_urls = [\"https://cdn.pydata.org/bokeh/release/bokeh-0.12.10.min.js\", \"https://cdn.pydata.org/bokeh/release/bokeh-widgets-0.12.10.min.js\", \"https://cdn.pydata.org/bokeh/release/bokeh-tables-0.12.10.min.js\", \"https://cdn.pydata.org/bokeh/release/bokeh-gl-0.12.10.min.js\"];\n\n  var inline_js = [\n    function(Bokeh) {\n      Bokeh.set_log_level(\"info\");\n    },\n    \n    function(Bokeh) {\n      \n    },\n    function(Bokeh) {\n      console.log(\"Bokeh: injecting CSS: https://cdn.pydata.org/bokeh/release/bokeh-0.12.10.min.css\");\n      Bokeh.embed.inject_css(\"https://cdn.pydata.org/bokeh/release/bokeh-0.12.10.min.css\");\n      console.log(\"Bokeh: injecting CSS: https://cdn.pydata.org/bokeh/release/bokeh-widgets-0.12.10.min.css\");\n      Bokeh.embed.inject_css(\"https://cdn.pydata.org/bokeh/release/bokeh-widgets-0.12.10.min.css\");\n      console.log(\"Bokeh: injecting CSS: https://cdn.pydata.org/bokeh/release/bokeh-tables-0.12.10.min.css\");\n      Bokeh.embed.inject_css(\"https://cdn.pydata.org/bokeh/release/bokeh-tables-0.12.10.min.css\");\n    }\n  ];\n\n  function run_inline_js() {\n    \n    if ((root.Bokeh !== undefined) || (force === true)) {\n      for (var i = 0; i < inline_js.length; i++) {\n        inline_js[i].call(root, root.Bokeh);\n      }if (force === true) {\n        display_loaded();\n      }} else if (Date.now() < root._bokeh_timeout) {\n      setTimeout(run_inline_js, 100);\n    } else if (!root._bokeh_failed_load) {\n      console.log(\"Bokeh: BokehJS failed to load within specified timeout.\");\n      root._bokeh_failed_load = true;\n    } else if (force !== true) {\n      var cell = $(document.getElementById(\"c9cb07d1-24d5-41c4-a267-2834f1e63bd0\")).parents('.cell').data().cell;\n      cell.output_area.append_execute_result(NB_LOAD_WARNING)\n    }\n\n  }\n\n  if (root._bokeh_is_loading === 0) {\n    console.log(\"Bokeh: BokehJS loaded, going straight to plotting\");\n    run_inline_js();\n  } else {\n    load_libs(js_urls, function() {\n      console.log(\"Bokeh: BokehJS plotting callback run at\", now());\n      run_inline_js();\n    });\n  }\n}(window));"
     },
     "metadata": {},
     "output_type": "display_data"
    }
   ],
   "source": [
    "from bokeh.models import ColumnDataSource, LabelSet\n",
    "from bokeh.plotting import figure, show, output_file\n",
    "from bokeh.io import output_notebook\n",
    "output_notebook()"
   ]
  },
  {
   "cell_type": "markdown",
   "metadata": {},
   "source": [
    "### Part 0: Download the TED dataset"
   ]
  },
  {
   "cell_type": "code",
   "execution_count": 64,
   "metadata": {},
   "outputs": [],
   "source": [
    "import urllib.request\n",
    "import zipfile\n",
    "import lxml.etree"
   ]
  },
  {
   "cell_type": "code",
   "execution_count": 65,
   "metadata": {},
   "outputs": [],
   "source": [
    "# Download the dataset if it's not already there: this may take a minute as it is 75MB\n",
    "if not os.path.isfile('ted_en-20160408.zip'):\n",
    "    urllib.request.urlretrieve(\"https://wit3.fbk.eu/get.php?path=XML_releases/xml/ted_en-20160408.zip&filename=ted_en-20160408.zip\", filename=\"ted_en-20160408.zip\")"
   ]
  },
  {
   "cell_type": "code",
   "execution_count": 66,
   "metadata": {},
   "outputs": [],
   "source": [
    "# For now, we're only interested in the subtitle text, so let's extract that from the XML:\n",
    "with zipfile.ZipFile('ted_en-20160408.zip', 'r') as z:\n",
    "    doc = lxml.etree.parse(z.open('ted_en-20160408.xml', 'r'))\n",
    "input_text = '\\n'.join(doc.xpath('//content/text()'))\n",
    "del doc"
   ]
  },
  {
   "cell_type": "markdown",
   "metadata": {},
   "source": [
    "### Part 1: Preprocessing\n",
    "\n",
    "In this part, we attempt to clean up the raw subtitles a bit, so that we get only sentences. The following substring shows examples of what we're trying to get rid of. Since it's hard to define precisely what we want to get rid of, we'll just use some simple heuristics."
   ]
  },
  {
   "cell_type": "code",
   "execution_count": 67,
   "metadata": {
    "scrolled": false
   },
   "outputs": [
    {
     "data": {
      "text/plain": [
       "' baby does.\\n(Video) Hyowon Gweon: See this? (Ball squeaks) Did you see that? (Ball squeaks) Cool. See this one? (Ball squeaks) Wow.\\nLaura Schulz: Told you. (Laughs)\\n(Vide'"
      ]
     },
     "execution_count": 67,
     "metadata": {},
     "output_type": "execute_result"
    }
   ],
   "source": [
    "i = input_text.find(\"Hyowon Gweon: See this?\")\n",
    "input_text[i-20:i+150]"
   ]
  },
  {
   "cell_type": "markdown",
   "metadata": {},
   "source": [
    "Let's start by removing all parenthesized strings using a regex:"
   ]
  },
  {
   "cell_type": "code",
   "execution_count": 68,
   "metadata": {},
   "outputs": [],
   "source": [
    "input_text_noparens = re.sub(r'\\([^)]*\\)', '', input_text)"
   ]
  },
  {
   "cell_type": "markdown",
   "metadata": {},
   "source": [
    "We can verify the same location in the text is now clean as follows. We won't worry about the irregular spaces since we'll later split the text into sentences and tokenize it anyway."
   ]
  },
  {
   "cell_type": "code",
   "execution_count": 69,
   "metadata": {},
   "outputs": [
    {
     "data": {
      "text/plain": [
       "\"hat the baby does.\\n Hyowon Gweon: See this?  Did you see that?  Cool. See this one?  Wow.\\nLaura Schulz: Told you. \\n HG: See this one?  Hey Clara, this one's for you. You \""
      ]
     },
     "execution_count": 69,
     "metadata": {},
     "output_type": "execute_result"
    }
   ],
   "source": [
    "i = input_text_noparens.find(\"Hyowon Gweon: See this?\")\n",
    "input_text_noparens[i-20:i+150]"
   ]
  },
  {
   "cell_type": "markdown",
   "metadata": {},
   "source": [
    "Now, let's attempt to remove speakers' names that occur at the beginning of a line, by deleting pieces of the form \"`<up to 20 characters>:`\", as shown in this example. Of course, this is an imperfect heuristic. "
   ]
  },
  {
   "cell_type": "code",
   "execution_count": 70,
   "metadata": {},
   "outputs": [
    {
     "data": {
      "text/plain": [
       "[\"Here are two reasons companies fail: they only do more of the same, or they only do what's new\",\n",
       " 'To me the real, real solution to quality growth is figuring out the balance between two activities: exploration and exploitation',\n",
       " ' Both are necessary, but it can be too much of a good thing',\n",
       " 'Consider Facit',\n",
       " \" I'm actually old enough to remember them\"]"
      ]
     },
     "execution_count": 70,
     "metadata": {},
     "output_type": "execute_result"
    }
   ],
   "source": [
    "sentences_strings_ted = []\n",
    "for line in input_text_noparens.split('\\n'):\n",
    "    m = re.match(r'^(?:(?P<precolon>[^:]{,20}):)?(?P<postcolon>.*)$', line)\n",
    "    sentences_strings_ted.extend(sent for sent in m.groupdict()['postcolon'].split('.') if sent)\n",
    "\n",
    "# Uncomment if you need to save some RAM: these strings are about 50MB.\n",
    "# del input_text, input_text_noparens\n",
    "\n",
    "# Let's view the first few:\n",
    "sentences_strings_ted[:5]"
   ]
  },
  {
   "cell_type": "markdown",
   "metadata": {},
   "source": [
    "Now that we have sentences, we're ready to tokenize each of them into words. This tokenization is imperfect, of course. For instance, how many tokens is \"can't\", and where/how do we split it? We'll take the simplest naive approach of splitting on spaces. Before splitting, we remove non-alphanumeric characters, such as punctuation. You may want to consider the following question: why do we replace these characters with spaces rather than deleting them? Think of a case where this yields a different answer."
   ]
  },
  {
   "cell_type": "code",
   "execution_count": 71,
   "metadata": {},
   "outputs": [],
   "source": [
    "sentences_ted = []\n",
    "for sent_str in sentences_strings_ted:\n",
    "    tokens = re.sub(r\"[^a-z0-9]+\", \" \", sent_str.lower()).split()\n",
    "    sentences_ted.append(tokens)"
   ]
  },
  {
   "cell_type": "markdown",
   "metadata": {},
   "source": [
    "Two sample processed sentences:"
   ]
  },
  {
   "cell_type": "code",
   "execution_count": 72,
   "metadata": {},
   "outputs": [
    {
     "data": {
      "text/plain": [
       "266694"
      ]
     },
     "execution_count": 72,
     "metadata": {},
     "output_type": "execute_result"
    }
   ],
   "source": [
    "len(sentences_ted)"
   ]
  },
  {
   "cell_type": "code",
   "execution_count": 73,
   "metadata": {},
   "outputs": [
    {
     "name": "stdout",
     "output_type": "stream",
     "text": [
      "['here', 'are', 'two', 'reasons', 'companies', 'fail', 'they', 'only', 'do', 'more', 'of', 'the', 'same', 'or', 'they', 'only', 'do', 'what', 's', 'new']\n",
      "['to', 'me', 'the', 'real', 'real', 'solution', 'to', 'quality', 'growth', 'is', 'figuring', 'out', 'the', 'balance', 'between', 'two', 'activities', 'exploration', 'and', 'exploitation']\n"
     ]
    }
   ],
   "source": [
    "print(sentences_ted[0])\n",
    "print(sentences_ted[1])"
   ]
  },
  {
   "cell_type": "markdown",
   "metadata": {},
   "source": [
    "### Part 2: Word Frequencies"
   ]
  },
  {
   "cell_type": "markdown",
   "metadata": {},
   "source": [
    "If you store the counts of the top 1000 words in a list called `counts_ted_top1000`, the code below will plot the histogram requested in the writeup."
   ]
  },
  {
   "cell_type": "code",
   "execution_count": 93,
   "metadata": {},
   "outputs": [
    {
     "name": "stdout",
     "output_type": "stream",
     "text": [
      "(1000,)\n"
     ]
    }
   ],
   "source": [
    "from sklearn.feature_extraction.text import CountVectorizer\n",
    "vectorizer = CountVectorizer()\n",
    "counts_ted_top1000=vectorizer.fit_transform(sentences_strings_ted)\n",
    "counts_ted_top1000=np.sum(counts_ted_top1000,axis=0)\n",
    "counts_ted_top1000=np.squeeze(np.asarray(counts_ted_top1000))\n",
    "counts_ted_top=vectorizer.get_feature_names()\n",
    "sort_indices = np.argsort(counts_ted_top1000)\n",
    "counts_ted_top1000=counts_ted_top1000[sort_indices][-1000:]\n",
    "words_top_ted=np.array(counts_ted_top)[sort_indices][-1000:]\n",
    "print(counts_ted_top1000.shape)"
   ]
  },
  {
   "cell_type": "markdown",
   "metadata": {},
   "source": [
    "Plot distribution of top-1000 words"
   ]
  },
  {
   "cell_type": "code",
   "execution_count": 91,
   "metadata": {},
   "outputs": [
    {
     "data": {
      "text/html": [
       "\n",
       "<div class=\"bk-root\">\n",
       "    <div class=\"bk-plotdiv\" id=\"a0779da2-7e21-449d-9ac5-8e3c1bdeb863\"></div>\n",
       "</div>"
      ]
     },
     "metadata": {},
     "output_type": "display_data"
    },
    {
     "data": {
      "application/javascript": [
       "(function(root) {\n",
       "  function embed_document(root) {\n",
       "    var docs_json = {\"fe76521f-120e-44ec-8b5d-3072d2f20f49\":{\"roots\":{\"references\":[{\"attributes\":{},\"id\":\"938306b7-d5aa-442a-b39e-d93996d33265\",\"type\":\"SaveTool\"},{\"attributes\":{\"bottom\":{\"value\":0},\"fill_color\":{\"value\":\"#1f77b4\"},\"left\":{\"field\":\"left\"},\"line_color\":{\"value\":\"#555555\"},\"right\":{\"field\":\"right\"},\"top\":{\"field\":\"top\"}},\"id\":\"1cc0a22a-c389-4ff6-acde-347a1cfa357f\",\"type\":\"Quad\"},{\"attributes\":{\"formatter\":{\"id\":\"c448e5c2-f394-4c81-9f37-b11eeb843e6d\",\"type\":\"BasicTickFormatter\"},\"plot\":{\"id\":\"f07ab83d-0700-4791-b3c1-6d513de7e168\",\"subtype\":\"Figure\",\"type\":\"Plot\"},\"ticker\":{\"id\":\"f3db816e-92c8-4b25-ba86-2e3297513523\",\"type\":\"BasicTicker\"}},\"id\":\"6772721b-4cc2-4d1c-8dac-715622bf6e6f\",\"type\":\"LinearAxis\"},{\"attributes\":{\"callback\":null,\"column_names\":[\"left\",\"right\",\"top\"],\"data\":{\"left\":{\"__ndarray__\":\"AAAAAADweEAUrkfh+lCjQBSuR+H6wbFAHoXrUXjbuUAUrkfhevrAQJmZmZk5B8VAHoXrUfgTyUCjcD0KtyDNQBSuR+G6ltBA1qNwPRqd0kCZmZmZeaPUQFyPwvXYqdZAHoXrUTiw2EDgehSul7baQKNwPQr3vNxAZmZmZlbD3kAUrkfh2mTgQPUoXI8KaOFA1qNwPTpr4kC4HoXraW7jQJmZmZmZceRAehSuR8l05UBcj8L1+HfmQD0K16Moe+dAHoXrUVh+6ED/////h4HpQOB6FK63hOpAwvUoXOeH60CjcD0KF4vsQITrUbhGju1AZmZmZnaR7kBH4XoUppTvQBSuR+HqS/BAhetRuILN8ED1KFyPGk/xQGZmZmay0PFA1qNwPUpS8kBH4XoU4tPyQLgehet5VfNAKFyPwhHX80CZmZmZqVj0QArXo3BB2vRAehSuR9lb9UDrUbgecd31QFyPwvUIX/ZAzMzMzKDg9kA9CtejOGL3QK1H4XrQ4/dAHoXrUWhl+ECPwvUoAOf4QP////+XaPlAcD0K1y/q+UDgehSux2v6QFG4HoVf7fpAwvUoXPdu+0AyMzMzj/D7QKNwPQoncvxAFK5H4b7z/ECE61G4VnX9QPUoXI/u9v1AZmZmZoZ4/kDWo3A9Hvr+QEfhehS2e/9Atx6F6039/0AUrkfhcj8AQczMzMw+gABBhetRuArBAEE9Ctej1gEBQfUoXI+iQgFBrkfhem6DAUFmZmZmOsQBQR6F61EGBQJB1qNwPdJFAkGPwvUonoYCQUfhehRqxwJB/////zUIA0G4HoXrAUkDQXA9CtfNiQNBKFyPwpnKA0HhehSuZQsEQZmZmZkxTARBUbgehf2MBEEK16Nwyc0EQcL1KFyVDgVBehSuR2FPBUEzMzMzLZAFQetRuB750AVBo3A9CsURBkFcj8L1kFIGQRSuR+FckwZBzMzMzCjUBkGE61G49BQHQT0K16PAVQdB9Shcj4yWB0GtR+F6WNcHQWZmZmYkGAhBHoXrUfBYCEHWo3A9vJkIQY/C9SiI2ghBR+F6FFQbCUE=\",\"dtype\":\"float64\",\"shape\":[100]},\"right\":{\"__ndarray__\":\"FK5H4fpQo0AUrkfh+sGxQB6F61F427lAFK5H4Xr6wECZmZmZOQfFQB6F61H4E8lAo3A9CrcgzUAUrkfhupbQQNajcD0andJAmZmZmXmj1EBcj8L12KnWQB6F61E4sNhA4HoUrpe22kCjcD0K97zcQGZmZmZWw95AFK5H4dpk4ED1KFyPCmjhQNajcD06a+JAuB6F62lu40CZmZmZmXHkQHoUrkfJdOVAXI/C9fh35kA9CtejKHvnQB6F61FYfuhA/////4eB6UDgehSut4TqQML1KFznh+tAo3A9CheL7ECE61G4Ro7tQGZmZmZ2ke5AR+F6FKaU70AUrkfh6kvwQIXrUbiCzfBA9ShcjxpP8UBmZmZmstDxQNajcD1KUvJAR+F6FOLT8kC4HoXreVXzQChcj8IR1/NAmZmZmalY9EAK16NwQdr0QHoUrkfZW/VA61G4HnHd9UBcj8L1CF/2QMzMzMyg4PZAPQrXozhi90CtR+F60OP3QB6F61FoZfhAj8L1KADn+ED/////l2j5QHA9Ctcv6vlA4HoUrsdr+kBRuB6FX+36QML1KFz3bvtAMjMzM4/w+0CjcD0KJ3L8QBSuR+G+8/xAhOtRuFZ1/UD1KFyP7vb9QGZmZmaGeP5A1qNwPR76/kBH4XoUtnv/QLcehetN/f9AFK5H4XI/AEHMzMzMPoAAQYXrUbgKwQBBPQrXo9YBAUH1KFyPokIBQa5H4XpugwFBZmZmZjrEAUEehetRBgUCQdajcD3SRQJBj8L1KJ6GAkFH4XoUascCQf////81CANBuB6F6wFJA0FwPQrXzYkDQShcj8KZygNB4XoUrmULBEGZmZmZMUwEQVG4HoX9jARBCtejcMnNBEHC9ShclQ4FQXoUrkdhTwVBMzMzMy2QBUHrUbge+dAFQaNwPQrFEQZBXI/C9ZBSBkEUrkfhXJMGQczMzMwo1AZBhOtRuPQUB0E9CtejwFUHQfUoXI+MlgdBrUfheljXB0FmZmZmJBgIQR6F61HwWAhB1qNwPbyZCEGPwvUoiNoIQUfhehRUGwlBAAAAACBcCUE=\",\"dtype\":\"float64\",\"shape\":[100]},\"top\":{\"__ndarray__\":\"ZBqztziyOT+SMBnr7vAAP6NIXWW4VO0+DGJUw5U04j59rPUCvi7gPizNEURFQNY+DGJUw5U00j59rPUCvi7APsKCcAQdRsg+eaz1Ar4uwD55rPUCvi6gPoGs9QK+LrA+gaz1Ar4uwD55rPUCvi6gPnms9QK+LrA+gaz1Ar4uoD4AAAAAAAAAAIGs9QK+LqA+AAAAAAAAAAAAAAAAAAAAAAAAAAAAAAAAAAAAAAAAAAAAAAAAAAAAAIGs9QK+LqA+AAAAAAAAAAAAAAAAAAAAAAAAAAAAAAAAAAAAAAAAAAAAAAAAAAAAAAAAAAAAAAAAgaz1Ar4uoD4AAAAAAAAAAHGs9QK+LqA+AAAAAAAAAABxrPUCvi6gPpGs9QK+LqA+AAAAAAAAAABxrPUCvi6gPgAAAAAAAAAAAAAAAAAAAAAAAAAAAAAAAAAAAAAAAAAAAAAAAAAAAAAAAAAAAAAAAAAAAAAAAAAAcaz1Ar4uoD4AAAAAAAAAAAAAAAAAAAAAAAAAAAAAAAAAAAAAAAAAAAAAAAAAAAAAAAAAAAAAAAAAAAAAAAAAAAAAAAAAAAAAAAAAAAAAAABxrPUCvi6gPgAAAAAAAAAAAAAAAAAAAAAAAAAAAAAAAAAAAAAAAAAAkaz1Ar4uoD4AAAAAAAAAAAAAAAAAAAAAAAAAAAAAAAAAAAAAAAAAAAAAAAAAAAAAAAAAAAAAAAAAAAAAAAAAAAAAAAAAAAAAAAAAAAAAAAAAAAAAAAAAAJGs9QK+LqA+AAAAAAAAAAAAAAAAAAAAAAAAAAAAAAAAAAAAAAAAAAAAAAAAAAAAAAAAAAAAAAAAAAAAAAAAAAAAAAAAAAAAAAAAAAAAAAAAAAAAAAAAAAAAAAAAAAAAAAAAAAAAAAAAAAAAAAAAAAAAAAAAAAAAAAAAAAAAAAAAAAAAAAAAAAAAAAAAAAAAAAAAAAAAAAAAAAAAAAAAAAAAAAAAAAAAAAAAAAAAAAAAAAAAAAAAAAAAAAAAAAAAAAAAAAAAAAAAAAAAAAAAAAAAAAAAAAAAAAAAAAAAAAAAUaz1Ar4uoD4=\",\"dtype\":\"float64\",\"shape\":[100]}}},\"id\":\"794bd41b-656d-44f5-bb23-83c3a5a93a59\",\"type\":\"ColumnDataSource\"},{\"attributes\":{\"data_source\":{\"id\":\"794bd41b-656d-44f5-bb23-83c3a5a93a59\",\"type\":\"ColumnDataSource\"},\"glyph\":{\"id\":\"1cc0a22a-c389-4ff6-acde-347a1cfa357f\",\"type\":\"Quad\"},\"hover_glyph\":null,\"muted_glyph\":null,\"nonselection_glyph\":{\"id\":\"abeb5eb0-6ab7-4526-964f-4dbdd2b29520\",\"type\":\"Quad\"},\"selection_glyph\":null,\"view\":{\"id\":\"671d609a-af9b-401a-a7cf-4406640a1b87\",\"type\":\"CDSView\"}},\"id\":\"575c7655-b376-49a9-9022-b9b6a0749158\",\"type\":\"GlyphRenderer\"},{\"attributes\":{\"below\":[{\"id\":\"6772721b-4cc2-4d1c-8dac-715622bf6e6f\",\"type\":\"LinearAxis\"}],\"left\":[{\"id\":\"16378b7c-710c-486d-824e-98ab3cccb908\",\"type\":\"LinearAxis\"}],\"renderers\":[{\"id\":\"6772721b-4cc2-4d1c-8dac-715622bf6e6f\",\"type\":\"LinearAxis\"},{\"id\":\"68495739-72a6-4638-a693-a50c3af60898\",\"type\":\"Grid\"},{\"id\":\"16378b7c-710c-486d-824e-98ab3cccb908\",\"type\":\"LinearAxis\"},{\"id\":\"c6716c3c-27f6-42b4-b6ef-c3703cdf3c02\",\"type\":\"Grid\"},{\"id\":\"575c7655-b376-49a9-9022-b9b6a0749158\",\"type\":\"GlyphRenderer\"}],\"title\":{\"id\":\"bb383931-f8b8-49b1-8d0d-21c3601132fc\",\"type\":\"Title\"},\"toolbar\":{\"id\":\"ebf05282-3ced-45d7-94ef-f15d19f72780\",\"type\":\"Toolbar\"},\"toolbar_location\":\"above\",\"x_range\":{\"id\":\"c05b696c-76d5-4a50-bed5-dae978578ef5\",\"type\":\"DataRange1d\"},\"x_scale\":{\"id\":\"447c77dd-b0b3-4fd7-9019-5590a7ccbbe4\",\"type\":\"LinearScale\"},\"y_range\":{\"id\":\"86048e8a-0097-49e7-b7e6-774c66515242\",\"type\":\"DataRange1d\"},\"y_scale\":{\"id\":\"e86dc740-4aef-40d8-8070-6b43e67907ca\",\"type\":\"LinearScale\"}},\"id\":\"f07ab83d-0700-4791-b3c1-6d513de7e168\",\"subtype\":\"Figure\",\"type\":\"Plot\"},{\"attributes\":{\"dimension\":1,\"plot\":{\"id\":\"f07ab83d-0700-4791-b3c1-6d513de7e168\",\"subtype\":\"Figure\",\"type\":\"Plot\"},\"ticker\":{\"id\":\"a4514f76-37c4-411e-9c54-c560fcbdb756\",\"type\":\"BasicTicker\"}},\"id\":\"c6716c3c-27f6-42b4-b6ef-c3703cdf3c02\",\"type\":\"Grid\"},{\"attributes\":{\"callback\":null},\"id\":\"86048e8a-0097-49e7-b7e6-774c66515242\",\"type\":\"DataRange1d\"},{\"attributes\":{\"source\":{\"id\":\"794bd41b-656d-44f5-bb23-83c3a5a93a59\",\"type\":\"ColumnDataSource\"}},\"id\":\"671d609a-af9b-401a-a7cf-4406640a1b87\",\"type\":\"CDSView\"},{\"attributes\":{\"bottom\":{\"value\":0},\"fill_alpha\":{\"value\":0.1},\"fill_color\":{\"value\":\"#1f77b4\"},\"left\":{\"field\":\"left\"},\"line_alpha\":{\"value\":0.1},\"line_color\":{\"value\":\"#1f77b4\"},\"right\":{\"field\":\"right\"},\"top\":{\"field\":\"top\"}},\"id\":\"abeb5eb0-6ab7-4526-964f-4dbdd2b29520\",\"type\":\"Quad\"},{\"attributes\":{\"active_drag\":\"auto\",\"active_inspect\":\"auto\",\"active_scroll\":\"auto\",\"active_tap\":\"auto\",\"tools\":[{\"id\":\"599644d8-b0c3-49ab-9680-19581b2c6eb2\",\"type\":\"PanTool\"},{\"id\":\"4159ad5e-3d56-4cdd-a27d-564bbb62b7a3\",\"type\":\"WheelZoomTool\"},{\"id\":\"ef6ea479-27ad-4306-8fb0-0de6a1df9741\",\"type\":\"ResetTool\"},{\"id\":\"938306b7-d5aa-442a-b39e-d93996d33265\",\"type\":\"SaveTool\"}]},\"id\":\"ebf05282-3ced-45d7-94ef-f15d19f72780\",\"type\":\"Toolbar\"},{\"attributes\":{\"formatter\":{\"id\":\"1365e600-542d-4841-a26a-d1a84859f799\",\"type\":\"BasicTickFormatter\"},\"plot\":{\"id\":\"f07ab83d-0700-4791-b3c1-6d513de7e168\",\"subtype\":\"Figure\",\"type\":\"Plot\"},\"ticker\":{\"id\":\"a4514f76-37c4-411e-9c54-c560fcbdb756\",\"type\":\"BasicTicker\"}},\"id\":\"16378b7c-710c-486d-824e-98ab3cccb908\",\"type\":\"LinearAxis\"},{\"attributes\":{},\"id\":\"ef6ea479-27ad-4306-8fb0-0de6a1df9741\",\"type\":\"ResetTool\"},{\"attributes\":{},\"id\":\"599644d8-b0c3-49ab-9680-19581b2c6eb2\",\"type\":\"PanTool\"},{\"attributes\":{},\"id\":\"c448e5c2-f394-4c81-9f37-b11eeb843e6d\",\"type\":\"BasicTickFormatter\"},{\"attributes\":{\"plot\":null,\"text\":\"Top-1000 words distribution\"},\"id\":\"bb383931-f8b8-49b1-8d0d-21c3601132fc\",\"type\":\"Title\"},{\"attributes\":{},\"id\":\"4159ad5e-3d56-4cdd-a27d-564bbb62b7a3\",\"type\":\"WheelZoomTool\"},{\"attributes\":{},\"id\":\"e86dc740-4aef-40d8-8070-6b43e67907ca\",\"type\":\"LinearScale\"},{\"attributes\":{\"callback\":null},\"id\":\"c05b696c-76d5-4a50-bed5-dae978578ef5\",\"type\":\"DataRange1d\"},{\"attributes\":{},\"id\":\"f3db816e-92c8-4b25-ba86-2e3297513523\",\"type\":\"BasicTicker\"},{\"attributes\":{\"plot\":{\"id\":\"f07ab83d-0700-4791-b3c1-6d513de7e168\",\"subtype\":\"Figure\",\"type\":\"Plot\"},\"ticker\":{\"id\":\"f3db816e-92c8-4b25-ba86-2e3297513523\",\"type\":\"BasicTicker\"}},\"id\":\"68495739-72a6-4638-a693-a50c3af60898\",\"type\":\"Grid\"},{\"attributes\":{},\"id\":\"447c77dd-b0b3-4fd7-9019-5590a7ccbbe4\",\"type\":\"LinearScale\"},{\"attributes\":{},\"id\":\"1365e600-542d-4841-a26a-d1a84859f799\",\"type\":\"BasicTickFormatter\"},{\"attributes\":{},\"id\":\"a4514f76-37c4-411e-9c54-c560fcbdb756\",\"type\":\"BasicTicker\"}],\"root_ids\":[\"f07ab83d-0700-4791-b3c1-6d513de7e168\"]},\"title\":\"Bokeh Application\",\"version\":\"0.12.10\"}};\n",
       "    var render_items = [{\"docid\":\"fe76521f-120e-44ec-8b5d-3072d2f20f49\",\"elementid\":\"a0779da2-7e21-449d-9ac5-8e3c1bdeb863\",\"modelid\":\"f07ab83d-0700-4791-b3c1-6d513de7e168\"}];\n",
       "\n",
       "    root.Bokeh.embed.embed_items(docs_json, render_items);\n",
       "  }\n",
       "\n",
       "  if (root.Bokeh !== undefined) {\n",
       "    embed_document(root);\n",
       "  } else {\n",
       "    var attempts = 0;\n",
       "    var timer = setInterval(function(root) {\n",
       "      if (root.Bokeh !== undefined) {\n",
       "        embed_document(root);\n",
       "        clearInterval(timer);\n",
       "      }\n",
       "      attempts++;\n",
       "      if (attempts > 100) {\n",
       "        console.log(\"Bokeh: ERROR: Unable to embed document because BokehJS library is missing\")\n",
       "        clearInterval(timer);\n",
       "      }\n",
       "    }, 10, root)\n",
       "  }\n",
       "})(window);"
      ],
      "application/vnd.bokehjs_exec.v0+json": ""
     },
     "metadata": {
      "application/vnd.bokehjs_exec.v0+json": {
       "id": "f07ab83d-0700-4791-b3c1-6d513de7e168"
      }
     },
     "output_type": "display_data"
    }
   ],
   "source": [
    "hist, edges = np.histogram(counts_ted_top1000, density=True, bins=100, normed=True)\n",
    "\n",
    "p = figure(tools=\"pan,wheel_zoom,reset,save\",\n",
    "           toolbar_location=\"above\",\n",
    "           title=\"Top-1000 words distribution\")\n",
    "p.quad(top=hist, bottom=0, left=edges[:-1], right=edges[1:], line_color=\"#555555\")\n",
    "show(p)"
   ]
  },
  {
   "cell_type": "markdown",
   "metadata": {},
   "source": [
    "### Part 3: Train Word2Vec"
   ]
  },
  {
   "cell_type": "code",
   "execution_count": 76,
   "metadata": {},
   "outputs": [],
   "source": [
    "from gensim.models import Word2Vec"
   ]
  },
  {
   "cell_type": "code",
   "execution_count": 80,
   "metadata": {},
   "outputs": [],
   "source": [
    "model_ted = Word2Vec(sentences_ted, size=100, min_count=10)"
   ]
  },
  {
   "cell_type": "markdown",
   "metadata": {},
   "source": [
    "### Part 4: Ted Learnt Representations"
   ]
  },
  {
   "cell_type": "markdown",
   "metadata": {},
   "source": [
    "Finding similar words: (see gensim docs for more functionality of `most_similar`)"
   ]
  },
  {
   "cell_type": "code",
   "execution_count": 81,
   "metadata": {},
   "outputs": [
    {
     "name": "stderr",
     "output_type": "stream",
     "text": [
      "C:\\Users\\JiazhenShen\\Anaconda3\\lib\\site-packages\\ipykernel_launcher.py:1: DeprecationWarning: Call to deprecated `most_similar` (Method will be removed in 4.0.0, use self.wv.most_similar() instead).\n",
      "  \"\"\"Entry point for launching an IPython kernel.\n"
     ]
    },
    {
     "data": {
      "text/plain": [
       "[('woman', 0.8409068584442139),\n",
       " ('guy', 0.8227819800376892),\n",
       " ('lady', 0.7684592604637146),\n",
       " ('gentleman', 0.7589348554611206),\n",
       " ('boy', 0.744612455368042),\n",
       " ('girl', 0.7374058961868286),\n",
       " ('poet', 0.7364687919616699),\n",
       " ('soldier', 0.7324917316436768),\n",
       " ('david', 0.6897274255752563),\n",
       " ('kid', 0.6840187907218933)]"
      ]
     },
     "execution_count": 81,
     "metadata": {},
     "output_type": "execute_result"
    }
   ],
   "source": [
    "model_ted.most_similar(\"man\")"
   ]
  },
  {
   "cell_type": "code",
   "execution_count": 82,
   "metadata": {},
   "outputs": [
    {
     "name": "stderr",
     "output_type": "stream",
     "text": [
      "C:\\Users\\JiazhenShen\\Anaconda3\\lib\\site-packages\\ipykernel_launcher.py:1: DeprecationWarning: Call to deprecated `most_similar` (Method will be removed in 4.0.0, use self.wv.most_similar() instead).\n",
      "  \"\"\"Entry point for launching an IPython kernel.\n"
     ]
    },
    {
     "data": {
      "text/plain": [
       "[('machine', 0.7313762903213501),\n",
       " ('robot', 0.67792809009552),\n",
       " ('device', 0.6761313676834106),\n",
       " ('software', 0.6718078255653381),\n",
       " ('3d', 0.6621335744857788),\n",
       " ('chip', 0.6585367918014526),\n",
       " ('program', 0.6372976303100586),\n",
       " ('camera', 0.6343671083450317),\n",
       " ('simulation', 0.6261245012283325),\n",
       " ('video', 0.6153430342674255)]"
      ]
     },
     "execution_count": 82,
     "metadata": {},
     "output_type": "execute_result"
    }
   ],
   "source": [
    "model_ted.most_similar(\"computer\")"
   ]
  },
  {
   "cell_type": "code",
   "execution_count": 86,
   "metadata": {},
   "outputs": [
    {
     "name": "stderr",
     "output_type": "stream",
     "text": [
      "C:\\Users\\JiazhenShen\\Anaconda3\\lib\\site-packages\\ipykernel_launcher.py:1: DeprecationWarning: Call to deprecated `most_similar` (Method will be removed in 4.0.0, use self.wv.most_similar() instead).\n",
      "  \"\"\"Entry point for launching an IPython kernel.\n"
     ]
    },
    {
     "data": {
      "text/plain": [
       "[('inspirational', 0.7687804102897644),\n",
       " ('publisher', 0.7534594535827637),\n",
       " ('juan', 0.7488954663276672),\n",
       " ('theresa', 0.740514874458313),\n",
       " ('browne', 0.7385305762290955),\n",
       " ('golfer', 0.7351403832435608),\n",
       " ('inmate', 0.7341582179069519),\n",
       " ('homage', 0.7338038682937622),\n",
       " ('archaic', 0.733424186706543),\n",
       " ('accomplishment', 0.7326440811157227)]"
      ]
     },
     "execution_count": 86,
     "metadata": {},
     "output_type": "execute_result"
    }
   ],
   "source": [
    "model_ted.most_similar(\"outstanding\")"
   ]
  },
  {
   "cell_type": "markdown",
   "metadata": {},
   "source": [
    "#### t-SNE visualization\n",
    "To use the t-SNE code below, first put a list of the top 1000 words (as strings) into a variable `words_top_ted`. The following code gets the corresponding vectors from the model, assuming it's called `model_ted`:"
   ]
  },
  {
   "cell_type": "code",
   "execution_count": 94,
   "metadata": {},
   "outputs": [
    {
     "name": "stderr",
     "output_type": "stream",
     "text": [
      "C:\\Users\\JiazhenShen\\Anaconda3\\lib\\site-packages\\ipykernel_launcher.py:3: DeprecationWarning: Call to deprecated `__getitem__` (Method will be removed in 4.0.0, use self.wv.__getitem__() instead).\n",
      "  This is separate from the ipykernel package so we can avoid doing imports until\n"
     ]
    }
   ],
   "source": [
    "# This assumes words_top_ted is a list of strings, the top 1000 words\n",
    "\n",
    "words_top_vec_ted = model_ted[words_top_ted]"
   ]
  },
  {
   "cell_type": "code",
   "execution_count": 95,
   "metadata": {},
   "outputs": [],
   "source": [
    "from sklearn.manifold import TSNE\n",
    "tsne = TSNE(n_components=2, random_state=0)\n",
    "words_top_ted_tsne = tsne.fit_transform(words_top_vec_ted)"
   ]
  },
  {
   "cell_type": "code",
   "execution_count": 96,
   "metadata": {},
   "outputs": [
    {
     "data": {
      "text/html": [
       "\n",
       "<div class=\"bk-root\">\n",
       "    <div class=\"bk-plotdiv\" id=\"c16cbe38-cd09-4d67-b253-52ca5edf0b7d\"></div>\n",
       "</div>"
      ]
     },
     "metadata": {},
     "output_type": "display_data"
    },
    {
     "data": {
      "application/javascript": [
       "(function(root) {\n",
       "  function embed_document(root) {\n",
       "    var docs_json = {\"ef22c55f-dc1c-403e-b12d-153d1177ce3b\":{\"roots\":{\"references\":[{\"attributes\":{\"below\":[{\"id\":\"47e4dfbc-e22e-4615-9d6e-e4fdc106b189\",\"type\":\"LinearAxis\"}],\"left\":[{\"id\":\"e87cf0b2-ca06-46e7-b58a-5210accf8fe0\",\"type\":\"LinearAxis\"}],\"renderers\":[{\"id\":\"47e4dfbc-e22e-4615-9d6e-e4fdc106b189\",\"type\":\"LinearAxis\"},{\"id\":\"26e61ea2-3dd7-468f-8e77-5c535cac5ee5\",\"type\":\"Grid\"},{\"id\":\"e87cf0b2-ca06-46e7-b58a-5210accf8fe0\",\"type\":\"LinearAxis\"},{\"id\":\"87bd9199-171e-4d99-9268-3a2b97c6d68e\",\"type\":\"Grid\"},{\"id\":\"7c8e1688-5af0-42c7-b0b0-d54ac4d29ba8\",\"type\":\"GlyphRenderer\"},{\"id\":\"ba7a225b-dea9-458b-843f-5e2f81af911a\",\"type\":\"LabelSet\"}],\"title\":{\"id\":\"7b21245b-9903-431d-ba6b-da927432cb8f\",\"type\":\"Title\"},\"toolbar\":{\"id\":\"86d7c2f4-0e42-4202-b471-c8c1d11a011f\",\"type\":\"Toolbar\"},\"toolbar_location\":\"above\",\"x_range\":{\"id\":\"1ad8e1a7-f309-440b-9db3-1ad5eb62f9d6\",\"type\":\"DataRange1d\"},\"x_scale\":{\"id\":\"330ab788-3e04-409f-929b-c73e79c44f0e\",\"type\":\"LinearScale\"},\"y_range\":{\"id\":\"4919408a-1b7a-4731-b4ba-206da202ca03\",\"type\":\"DataRange1d\"},\"y_scale\":{\"id\":\"7733b032-1c73-45de-987c-13ce76e8a6cd\",\"type\":\"LinearScale\"}},\"id\":\"19c17c43-771f-4c64-8f2d-3b7dba1893de\",\"subtype\":\"Figure\",\"type\":\"Plot\"},{\"attributes\":{},\"id\":\"6250cfeb-fb76-4354-96e1-a4d3b71d689c\",\"type\":\"PanTool\"},{\"attributes\":{\"callback\":null,\"column_names\":[\"x1\",\"x2\",\"names\"],\"data\":{\"names\":[\"wife\",\"village\",\"mine\",\"expect\",\"decision\",\"80\",\"taught\",\"fire\",\"older\",\"teachers\",\"meaning\",\"finding\",\"shown\",\"buildings\",\"somewhere\",\"goal\",\"cases\",\"screen\",\"tree\",\"connected\",\"families\",\"police\",\"fight\",\"interest\",\"faster\",\"supposed\",\"models\",\"allowed\",\"leaders\",\"skin\",\"usually\",\"conversation\",\"projects\",\"african\",\"standing\",\"extraordinary\",\"role\",\"named\",\"objects\",\"including\",\"doctor\",\"student\",\"continue\",\"happiness\",\"further\",\"vision\",\"son\",\"door\",\"object\",\"essentially\",\"plan\",\"safe\",\"strong\",\"fall\",\"poverty\",\"positive\",\"east\",\"jobs\",\"materials\",\"grew\",\"exciting\",\"results\",\"lead\",\"500\",\"worse\",\"choose\",\"creative\",\"road\",\"watching\",\"organization\",\"plant\",\"biggest\",\"medicine\",\"follow\",\"anyway\",\"trust\",\"movie\",\"extremely\",\"table\",\"individuals\",\"wait\",\"wants\",\"speed\",\"schools\",\"moved\",\"response\",\"favorite\",\"everywhere\",\"zero\",\"11\",\"memory\",\"plants\",\"break\",\"add\",\"onto\",\"dream\",\"develop\",\"mass\",\"period\",\"notice\",\"hospital\",\"showing\",\"largest\",\"sit\",\"minute\",\"among\",\"democracy\",\"eventually\",\"code\",\"higher\",\"college\",\"action\",\"suddenly\",\"totally\",\"measure\",\"success\",\"particularly\",\"software\",\"examples\",\"west\",\"starts\",\"reach\",\"boy\",\"sounds\",\"rules\",\"carbon\",\"sex\",\"camera\",\"source\",\"device\",\"crazy\",\"potential\",\"communities\",\"chinese\",\"60\",\"games\",\"scientific\",\"200\",\"international\",\"approach\",\"led\",\"walking\",\"hit\",\"journey\",\"25\",\"ready\",\"teach\",\"certainly\",\"died\",\"explain\",\"hundred\",\"revolution\",\"listen\",\"send\",\"worth\",\"present\",\"drive\",\"towards\",\"indeed\",\"solar\",\"basic\",\"general\",\"security\",\"evolution\",\"office\",\"web\",\"violence\",\"quality\",\"message\",\"pick\",\"eye\",\"putting\",\"effect\",\"similar\",\"perfect\",\"month\",\"google\",\"involved\",\"lived\",\"product\",\"nine\",\"drugs\",\"aren\",\"bigger\",\"guess\",\"becomes\",\"incredibly\",\"modern\",\"drug\",\"cause\",\"experiment\",\"writing\",\"obviously\",\"evidence\",\"major\",\"available\",\"truth\",\"rights\",\"likely\",\"stay\",\"groups\",\"robot\",\"cool\",\"resources\",\"non\",\"shape\",\"ice\",\"produce\",\"please\",\"beyond\",\"pictures\",\"term\",\"anybody\",\"haven\",\"begin\",\"impact\",\"meet\",\"dead\",\"stand\",\"knows\",\"reasons\",\"box\",\"solution\",\"situation\",\"baby\",\"wall\",\"special\",\"network\",\"film\",\"class\",\"solve\",\"digital\",\"developing\",\"save\",\"focus\",\"allow\",\"english\",\"tiny\",\"university\",\"computers\",\"innovation\",\"several\",\"color\",\"issues\",\"designed\",\"fun\",\"hour\",\"rate\",\"industry\",\"chance\",\"seem\",\"asking\",\"showed\",\"type\",\"dark\",\"generation\",\"gives\",\"europe\",\"relationship\",\"normal\",\"discovered\",\"talked\",\"creating\",\"fly\",\"choice\",\"soon\",\"girls\",\"patient\",\"especially\",\"playing\",\"clear\",\"changing\",\"sun\",\"fast\",\"cars\",\"cut\",\"theory\",\"12\",\"recently\",\"material\",\"key\",\"issue\",\"voice\",\"personal\",\"nobody\",\"map\",\"fear\",\"blood\",\"lab\",\"development\",\"north\",\"medical\",\"act\",\"technologies\",\"result\",\"online\",\"running\",\"miles\",\"tools\",\"support\",\"millions\",\"individual\",\"kid\",\"developed\",\"forward\",\"sea\",\"nice\",\"starting\",\"hold\",\"telling\",\"alone\",\"seems\",\"force\",\"eat\",\"ground\",\"giving\",\"movement\",\"knowledge\",\"books\",\"literally\",\"understanding\",\"wrote\",\"law\",\"images\",\"realize\",\"stage\",\"audience\",\"numbers\",\"die\",\"bottom\",\"speak\",\"brought\",\"absolutely\",\"short\",\"watch\",\"deep\",\"anyone\",\"areas\",\"attention\",\"feet\",\"structure\",\"animal\",\"risk\",\"access\",\"complex\",\"dna\",\"economy\",\"met\",\"girl\",\"hundreds\",\"behavior\",\"feeling\",\"program\",\"value\",\"physical\",\"morning\",\"scientists\",\"pay\",\"average\",\"incredible\",\"surface\",\"street\",\"test\",\"40\",\"climate\",\"born\",\"rest\",\"shows\",\"field\",\"growing\",\"friend\",\"low\",\"south\",\"challenge\",\"write\",\"changes\",\"ability\",\"sitting\",\"patients\",\"either\",\"wouldn\",\"growth\",\"buy\",\"green\",\"poor\",\"step\",\"blue\",\"quickly\",\"national\",\"paper\",\"lost\",\"opportunity\",\"spent\",\"weeks\",\"amount\",\"gone\",\"red\",\"deal\",\"political\",\"interested\",\"oil\",\"land\",\"fish\",\"tried\",\"center\",\"common\",\"grow\",\"cannot\",\"wonderful\",\"phone\",\"longer\",\"spend\",\"certain\",\"humans\",\"felt\",\"size\",\"week\",\"known\",\"powerful\",\"economic\",\"eight\",\"ocean\",\"parts\",\"market\",\"white\",\"view\",\"walk\",\"death\",\"parents\",\"media\",\"realized\",\"local\",\"father\",\"beginning\",\"needed\",\"simply\",\"image\",\"needs\",\"terms\",\"whatever\",\"began\",\"hands\",\"york\",\"culture\",\"population\",\"moving\",\"team\",\"eyes\",\"cost\",\"turned\",\"easy\",\"seeing\",\"reality\",\"area\",\"yourself\",\"companies\",\"takes\",\"difficult\",\"china\",\"scale\",\"full\",\"behind\",\"cities\",\"close\",\"15\",\"cell\",\"leave\",\"given\",\"changed\",\"seven\",\"taken\",\"natural\",\"outside\",\"difference\",\"air\",\"systems\",\"during\",\"machine\",\"india\",\"gave\",\"won\",\"entire\",\"learning\",\"news\",\"happy\",\"guys\",\"particular\",\"free\",\"figure\",\"lots\",\"ted\",\"per\",\"based\",\"least\",\"century\",\"thousands\",\"game\",\"sound\",\"early\",\"others\",\"finally\",\"along\",\"third\",\"past\",\"perhaps\",\"black\",\"ones\",\"minutes\",\"worked\",\"environment\",\"american\",\"animals\",\"ok\",\"universe\",\"created\",\"huge\",\"couldn\",\"house\",\"front\",\"disease\",\"hours\",\"name\",\"students\",\"kinds\",\"rather\",\"itself\",\"must\",\"themselves\",\"hear\",\"art\",\"happening\",\"ourselves\",\"turns\",\"company\",\"god\",\"mother\",\"gets\",\"questions\",\"model\",\"america\",\"heart\",\"level\",\"share\",\"large\",\"stories\",\"against\",\"education\",\"completely\",\"society\",\"species\",\"exactly\",\"became\",\"works\",\"taking\",\"cancer\",\"word\",\"study\",\"decided\",\"night\",\"run\",\"learned\",\"language\",\"video\",\"places\",\"50\",\"everyone\",\"stop\",\"though\",\"head\",\"nature\",\"piece\",\"music\",\"middle\",\"internet\",\"yeah\",\"form\",\"order\",\"couple\",\"knew\",\"line\",\"beautiful\",\"friends\",\"turn\",\"woman\",\"state\",\"built\",\"somebody\",\"self\",\"under\",\"group\",\"words\",\"30\",\"research\",\"isn\",\"control\",\"read\",\"100\",\"wasn\",\"face\",\"until\",\"heard\",\"job\",\"age\",\"cells\",\"bring\",\"since\",\"united\",\"amazing\",\"government\",\"matter\",\"looks\",\"ideas\",\"months\",\"instead\",\"child\",\"guy\",\"war\",\"true\",\"history\",\"sometimes\",\"hope\",\"oh\",\"answer\",\"yes\",\"keep\",\"car\",\"book\",\"wrong\",\"set\",\"public\",\"sure\",\"top\",\"everybody\",\"global\",\"planet\",\"business\",\"possible\",\"often\",\"billion\",\"myself\",\"looked\",\"within\",\"already\",\"community\",\"saying\",\"basically\",\"problems\",\"whether\",\"both\",\"picture\",\"single\",\"remember\",\"project\",\"mind\",\"far\",\"six\",\"someone\",\"inside\",\"process\",\"learn\",\"africa\",\"open\",\"computer\",\"reason\",\"states\",\"move\",\"goes\",\"happens\",\"bad\",\"care\",\"nothing\",\"days\",\"young\",\"yet\",\"almost\",\"case\",\"else\",\"ways\",\"health\",\"simple\",\"hand\",\"room\",\"says\",\"seen\",\"living\",\"makes\",\"asked\",\"experience\",\"later\",\"men\",\"having\",\"build\",\"okay\",\"once\",\"happen\",\"while\",\"saw\",\"side\",\"across\",\"imagine\",\"20\",\"moment\",\"earth\",\"dollars\",\"stuff\",\"family\",\"such\",\"coming\",\"countries\",\"lives\",\"anything\",\"hard\",\"play\",\"pretty\",\"half\",\"ask\",\"interesting\",\"told\",\"body\",\"food\",\"science\",\"building\",\"am\",\"talking\",\"energy\",\"less\",\"light\",\"probably\",\"social\",\"comes\",\"happened\",\"sense\",\"without\",\"city\",\"quite\",\"man\",\"enough\",\"future\",\"getting\",\"left\",\"best\",\"making\",\"design\",\"small\",\"create\",\"become\",\"home\",\"kids\",\"number\",\"space\",\"high\",\"times\",\"power\",\"took\",\"means\",\"money\",\"information\",\"using\",\"second\",\"thinking\",\"country\",\"five\",\"everything\",\"help\",\"working\",\"million\",\"try\",\"believe\",\"feel\",\"away\",\"person\",\"may\",\"trying\",\"children\",\"always\",\"whole\",\"call\",\"live\",\"sort\",\"school\",\"understand\",\"ever\",\"wanted\",\"real\",\"four\",\"point\",\"done\",\"10\",\"example\",\"end\",\"doesn\",\"love\",\"found\",\"maybe\",\"question\",\"looking\",\"water\",\"data\",\"mean\",\"old\",\"too\",\"women\",\"technology\",\"place\",\"used\",\"between\",\"bit\",\"few\",\"brain\",\"came\",\"story\",\"ago\",\"long\",\"show\",\"start\",\"each\",\"does\",\"him\",\"system\",\"course\",\"part\",\"next\",\"off\",\"problem\",\"still\",\"able\",\"together\",\"again\",\"000\",\"important\",\"might\",\"went\",\"thought\",\"give\",\"better\",\"should\",\"never\",\"its\",\"before\",\"own\",\"last\",\"big\",\"idea\",\"another\",\"started\",\"change\",\"talk\",\"fact\",\"didn\",\"find\",\"human\",\"great\",\"tell\",\"thank\",\"after\",\"made\",\"percent\",\"today\",\"any\",\"called\",\"put\",\"doing\",\"use\",\"three\",\"year\",\"day\",\"come\",\"being\",\"same\",\"through\",\"her\",\"let\",\"ll\",\"down\",\"different\",\"every\",\"around\",\"good\",\"why\",\"kind\",\"lot\",\"did\",\"need\",\"take\",\"many\",\"work\",\"only\",\"life\",\"his\",\"even\",\"say\",\"most\",\"over\",\"back\",\"got\",\"little\",\"thing\",\"new\",\"look\",\"also\",\"much\",\"than\",\"two\",\"first\",\"those\",\"something\",\"said\",\"she\",\"right\",\"make\",\"been\",\"want\",\"well\",\"go\",\"could\",\"no\",\"other\",\"things\",\"years\",\"will\",\"where\",\"way\",\"into\",\"actually\",\"don\",\"has\",\"some\",\"time\",\"us\",\"world\",\"then\",\"ve\",\"get\",\"really\",\"here\",\"would\",\"which\",\"their\",\"your\",\"see\",\"were\",\"who\",\"think\",\"more\",\"had\",\"going\",\"up\",\"know\",\"how\",\"them\",\"by\",\"out\",\"me\",\"very\",\"because\",\"when\",\"or\",\"these\",\"just\",\"an\",\"he\",\"our\",\"now\",\"from\",\"if\",\"like\",\"people\",\"re\",\"one\",\"my\",\"do\",\"not\",\"all\",\"at\",\"as\",\"be\",\"there\",\"about\",\"can\",\"with\",\"on\",\"what\",\"but\",\"have\",\"are\",\"for\",\"was\",\"they\",\"so\",\"this\",\"is\",\"we\",\"you\",\"it\",\"in\",\"that\",\"of\",\"to\",\"and\",\"the\"],\"x1\":{\"__ndarray__\":\"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\",\"dtype\":\"float32\",\"shape\":[1000]},\"x2\":{\"__ndarray__\":\"GL7cQT+OuUEnnMRBB0X9wXMNS8DzAytCEEWJwYZvPUHvgv/AW6GXQYVAXr9+cqHAlRuwwdG9SEEaqUdBhVZiv3h4S0HBLRRB7wc7QdSwQ8GwQJBBtaOUQfp+/sEy1IA/yB4avx7tW8GWlyNBqZ9VwWq0g0Ezf89AuoEEwVRmCkBteDJB14ecQXOrAcHbWWLA+WPkP0kmv0FYrjlBKKOZQaTNy0E/GsZBgnYDwlKIab8TlxK/3CTDP59s20F1HRxBOaeIQIFbbMBN/6NA8wYlwWEpVMBUChHCY5SKQTkxSMCL88NBZ0JuQX29L0HZgoLBsyOHwOaIKUExnQfC4zMlQihkgr91xQHC+6JKwHhzP0F70R7B3NZZQXO6OkHvY45Bs5sTQbPBBMLmyBjB55rswe66uEBy3F7BUokjQbxfhEEjbgTCJ2GtwagBb0Guko9BK4mcwehOrj77hjNAnnpDQeBGRUGYpCNC+R6cPz9BS0GlAxXCIc0TwpkjLkGM3TJAx20NwgzjQkEHKeVBa3jswT+GukGXIWvBgTeRQfHoD8IcTxdCqo2ZQUI0H0F4uX9BFe+yQIRgcT5SacVBmvviQHyda0EAcyHBYi3ywYiRabwVLjjBzaXQQLVBLEGZXbpBRWKZwZmhGcIijctBmg6UwSarI0ECUllBBwbjwGvP/kCXG8hADXKuQJeS/sCDuXhAaNGJQYWnjEHHNClCb6IHQUgmFUFQzSZC4nVhQaJ2gEBKsXLB8qEawW232cFXh3ZA6nApQihtPMGO7QfCSjZBwcSwqsHs9wnCt/4gQjRZMEGmGwLCc2wdwqgNfsDM8L3AUhwTwjVzakHwUhjBfDtXQdMPXr9sznpBPzFMQTWFwEDdO7ZBYmsmQZ2ei0Ftbo9Asr+xQHyjFsIO5rhAY9Q5wY7BJT+KoZm/7XcGwRk0FULLgANBjbCywKz4rMExLMtATOUkQhVUaUE2F83Bykxbv1NuysFxkZLB5OldwTC1dUEjPh9BbxkSwDdf00CKGw/Adi4fwdcIL0BaGohBxj8dwaotocAeYn1BkS8DwZdsDcKQZoNB/F64QAOg0cBgbGtBqo+GvwkuVEDFT1JBrToQwt6Eu8Fd1GpBXAoYQQu8oj8u3sLB+qPNwX+UAsIdN/Q+ka4Ewr2GN0FRgA3CVm+pwSyOhcAWqApBgTBzvijbtj7lEcVBdDsiQXbe3r8JUhpBzBC/QNF/u0Hjxw7C5ZcEQUaCcUELuwjCIqnswYZ7+MEQhIlBiO9wQHHrxkGO1ipB/S0mQfc5IUIw7+ZAq00sQTboUcF3HRXBI7MZQn7N80GIOhtB5wlFwNgFpsEfeojBdBimwZBbU0D6ihhBoRxMPgriiMFJOrdBfViMv9/42cDYC73BjyXQwVyGhsB7ZBTC9s01wD4CBsCcZqJBw/31QMXBNcHOLh7BiUziwHHqTr9l4EJB+ic6wKXhVUEcChbCgBEVQE+UJkJKp6NBNtCJQDfmkb4UelK/p3ebQENhfr8hicPBp6QkQeVYb8ARMdRAGisoQfSkNUGi1sVBzm9MQX7pnb9fcBVBXP87wGxtCUEAIyPBFO0TQndqGEGzc/HB2QEPQn5MLEHIvstB4HWiwVATXUHAeFBBC//QwLwAOsEvvhTC4gWGwRlXHsEOoprBpJufP2M5DsLAYURBf59HwRPXDUH9h6JAJZkFQUkQSEGLyXBAvZiywVNPg0HzLR1BDtnlwQWGiEGUEpNAorUvQVfYC8K2gWZBupECwkKkmsHAgS3BkTMpwCFj/cE9phFBP2jEwVU1YkFu1S5ABYsTQswNaUAE0yZBvETxQT6V8MFXvfe/4xibQFM+bEE3wa7B8FTMQcgBD0Jva3VAX0aKwHjT6UDBXY9AaSAQPqVOEELt5XpBu1UGwnVBIEJIWFzA5g1FQQLqJEF14bJACWorQvqeTkE+BitBsCGBQcS/jcG4xgZBBNF6wTyY1EGtdS1AOy7FQRyQd78vIgLCGyb5QNPYMj5QGP3Aqi+WQSpaksHz1NzBrOpfQSSLGcL0BbtA3bKqQUzM2sBxscZAUakjwGrjcEGTiflALWGuwakWIsAdqfHBIXgSQqcyskBXzbbBD0zLQJfxk8AFHkRBNzuwwAYPV0FmAlpBI8ZjQeb8u8H8FaxBFiSbv5s9EMI8tgXCMhGrwJrO50CAT/2///f0wZO+xL1v4klBSCzJwfjLKkGrHBVCqVmZwWRmOsBYhFJBIOgnQtOqTkH4CVZBYwkpQQYLzEDFTSVAFPUUwk+ykkFFa7RBFeYmQSU2ycH9dVtBo+neQY6iMsEa+rrB2yAKwT01gEDQka/BvcHTQDvrksE1ZrbBl+eOQK+mxEHzTe1A2/h4QZ80KcEXoEFBPb+QQNwp7kE5e/TBPq+8wDOCbMG0cS1A3tJSQaGRycC7uG5BKPSRwZFEs8Dpw7JB+v5GQQvxfEH25xpBeJBxQd7HEMB1JypC3QWHv+gFCcK3+3TBHP+wwS/gJUIwyrTB1c7BvB/eNEEXdwrAPVZBQRYIJkGnteVBip7CQAXytEHDbJ/BNLvcwW1ieUHHHOq/+b3MwK+9GMGngBRBwrkPPywFJsGirCjCqO8FQmzVjkH5VyRCYD4wwe7A8kEgqjJBbuMOQihpxUDxvpDBG1PcQbAcjEHYjIFBOTZAQYPqu0EUu9VBEcFlwfp1y0AOIEhBf4IUQm9QtMHM9mhAAmmcQS9iTUGet6jBCPHbQB0toMHRDJU+xY7fwYcErUHPkg9B3JCQP0OGFkKY43tA/XyfQda/AEJcYg/Aknd5P4zsBsI0sJVB+hL5wVRc/UCqE1DBgtaSQTCo9cHZagNBeT2bwUdI4UHAhpXBTR/eQBqrkkCZ5bdBQoOrQOOX5EFSvwvCOR2gP+c19EDAPKFBNlY9QS2VHcGFOQxBKWhPQeZTmsCdJLrBpVqSwYdwPsHr7JA/Eq7EQH+LFEGZor3BemUQQlGNGMKPpsnBEifxQJvZ3UBlLGdBJOctQqscycGWfgPCtzkwwYQKykBr0bZAFNxRQIb250CJq8JBR2wvQbBcrcGZBCZA31UHvuJHJUJa6MvB6TktQbOdx8Cn/7dBBvwdwuUezEET/IdBMiicwdJozMGyZdA/NoJJQQBpSkGfzP9AnPEsQpRgH0HTk83BTPvzwYq9AcLjmC5CY8DNwSt5mUC0CZNBp3zOwYbLU0GICvxBZMsfv9g/H8KJqp5BnCGxQSozccDVEGxBpY4EwZKxkcGUvAhBe/URQuygE8HnM79B/Q/TQe/dnUG8govBRisOQdl6BsH71JrAPgWwwQK8rsA0h6bB42EGwuAf/kASnGO/P54UwXT/D8KOr0JB32sjwVjfY0ErzsjBFQtXQfmjhUFcwDxBvRmPwTlt8MAXhBZCTTOZQbKfO8HTFpNBXtL3wIOITUFXM7vBoU1vwKCaLEFEWpHBOyO0QUwYgkDSBOBBNwvuwVQU+0Dk3qLB0Vl+wOe6KEJxjszByRsvQZDKNUDBFA3C9S27QfuFHsEaitdAGvqDwNLAqkE5pR3CpLidwYouV8H8AoPBCTCjvsINx8HlQhFCyru0QQCMQcHfoM1BOgTZwB/tscFoWAJB/p0uQiRhK8BPYqNAUiGmQd/dxMFEJMTBUozLwP88hsE+p5PBgztowMGc8UHdq6ZB0VQgwUWGGMJQG6rBZI54QXW7FsIOcVxBLc2pwbZXokAOrW9BWXHuwcUpL0IzcvpB4R2FQWLEGkJWm6tAVr3iQQK+5L+hoBrBtQ2AQRm2kUHmTMjBFDe6wGCn98FMG2XBqD0eQvaQCsLoDpDAIU+NwZHo88GbLXdBup4BQU+rBUGOOMLB/y2UwQHFZUGrVbS/12AwQRzcasHgET1BEmifwZ+SvMEoF0DA88O8PuH0ukE5DGjB467QQR+9R8H/sBdByKJEwSgxGEF6CphAS4VGwShHq0AuWqk/SLEYwrQ1CcIj2rZBCwmpQf1nF0KUk4m/d0wvQHdnEEK0ErRAZ36bwaWIb8E7+UlA0UMmQB3XcMB/QrxBLjmVwTsmtEG5bSxCqDXEwfYu68EU82bBLPYWQgAR2sGtIt/BH93UwUx+EUG2dL1BNsMMws6ObMGBz6lBUFA+wb2xb0EITszBKmAJwmAuAMGnvc1BavUKwqTkNsH0wsLBDpmrwLzYK0Ikr/ZBKm+6wROkL0JobTZAta6AQQJj5cFiubrB5QW/wexPecF1eMtAt3k5wevWP0HqNyZAkcbSwcZx8kGH9FvBfzWnQcp5tUBWU7dBqRJWwVDylkEWFB1ABVslQnGp9cHxwo/Bi6cbwA/J9UENSyXAiN0CwhsXAMJaWudBjC6dwXRHoEFoyn9AVzh5wFIPUj/gLsxB+2obQZCcUb9DVzHBDdtswUvHkEHbWn5BViEYQkt5hcBwdAzCTASQwb8P0sGnQyDCalfPvc8hCcIm9jbBgjZJP0rjlEF02Uu/NXPRQbYuV7+68PO/UbriP56NtcHUp+nB4rf/wVsP7sDwM+TBT4smwhEPwUBkuaLAFJUAwuvszsEQi+lBvfhLwf4zEkLoSQfB4kydwatUtsCAviXClxJ4wQhxE8LMlC1CPFURQlVjFEJ+BhnCb6ukwJ42x8AkBVJByMTxQe3Du8EUKwXCtiIqQbLKDr+TJOVBErNwQR8Dg8GFGpDBdSUAwaKHB0LfS8fBVCHKwUTEIsJ+lhRCqIQtwUa3ScGwsoPAifb7QVtnVsHRHtTBFbxFwX/pf0EJbzRBx8iXwVsnUkB3iA7AAAABQRhgO8HvnVzBW9+TwGqe/MC8MS5CT9jCQWlR3UEicsjBi/bHwWxK6kGewKDBq0UdwqZKvMGCs8rBHi+UwbEkGsKlKwvCNhWnwec4kEGU6sFAY/EMQmARBsKcHinBXQgTQA4STkF1AGLBETPpwbu+t8HBvgJCH3YAQvxviUGBfrBBiqiFQYw4xMHyWB/C2FNrwdzyp8GJewzCtE1bwXfjm0G3UNTAnLvowepZNcLC77dBYwPhwffzwL8a5L/BwUpxwXWwNkEbdOvBa9yDwbL/jUH3paZBu84ZQaEFoUH103HBD6hywbeOi0Eet4jBf2HdQSgNTMHgLr0/6e7nQaEQl0GN0wzB+7SAQdeyf8FRxADB64CnQX0PMsIBMLtBAV75QbgbEMI0c+PAyoi2QbVgdkHyTCXBucgZwj+fL8GiH3DAWIUEwjW2BUFEpCJBSEi6wXHqdMEH7sXBorY0whLtDMHVQ8DB5VaRwOaLecGc4kzBuhCEwZCblMDR7KbAKmWLwUJoV0Fu5FrBQl+FQVafwUFSAHhBaA+QQQ==\",\"dtype\":\"float32\",\"shape\":[1000]}}},\"id\":\"dc432da4-77fe-4b7f-ab18-a1c426e5984e\",\"type\":\"ColumnDataSource\"},{\"attributes\":{\"fill_color\":{\"value\":\"#1f77b4\"},\"line_color\":{\"value\":\"#1f77b4\"},\"size\":{\"units\":\"screen\",\"value\":8},\"x\":{\"field\":\"x1\"},\"y\":{\"field\":\"x2\"}},\"id\":\"b5a8f29d-83fd-4f4c-99aa-e281b03219e0\",\"type\":\"Circle\"},{\"attributes\":{},\"id\":\"76f94329-aa92-404f-951a-3dc9bec717c1\",\"type\":\"WheelZoomTool\"},{\"attributes\":{\"plot\":null,\"text\":\"word2vec T-SNE for most common words\"},\"id\":\"7b21245b-9903-431d-ba6b-da927432cb8f\",\"type\":\"Title\"},{\"attributes\":{\"callback\":null},\"id\":\"1ad8e1a7-f309-440b-9db3-1ad5eb62f9d6\",\"type\":\"DataRange1d\"},{\"attributes\":{},\"id\":\"9b6a35b3-235f-4b8d-8a9b-4f9aa66d43da\",\"type\":\"ResetTool\"},{\"attributes\":{},\"id\":\"330ab788-3e04-409f-929b-c73e79c44f0e\",\"type\":\"LinearScale\"},{\"attributes\":{},\"id\":\"fd913b50-720b-4c7e-b58c-5cb1ef62218c\",\"type\":\"SaveTool\"},{\"attributes\":{\"active_drag\":\"auto\",\"active_inspect\":\"auto\",\"active_scroll\":\"auto\",\"active_tap\":\"auto\",\"tools\":[{\"id\":\"6250cfeb-fb76-4354-96e1-a4d3b71d689c\",\"type\":\"PanTool\"},{\"id\":\"76f94329-aa92-404f-951a-3dc9bec717c1\",\"type\":\"WheelZoomTool\"},{\"id\":\"9b6a35b3-235f-4b8d-8a9b-4f9aa66d43da\",\"type\":\"ResetTool\"},{\"id\":\"fd913b50-720b-4c7e-b58c-5cb1ef62218c\",\"type\":\"SaveTool\"}]},\"id\":\"86d7c2f4-0e42-4202-b471-c8c1d11a011f\",\"type\":\"Toolbar\"},{\"attributes\":{\"source\":{\"id\":\"dc432da4-77fe-4b7f-ab18-a1c426e5984e\",\"type\":\"ColumnDataSource\"}},\"id\":\"1fcb76c1-32ff-49db-8ad5-ed71c86a73a6\",\"type\":\"CDSView\"},{\"attributes\":{},\"id\":\"078e9bd1-2247-4202-a67f-75fba6955e40\",\"type\":\"BasicTickFormatter\"},{\"attributes\":{\"callback\":null},\"id\":\"4919408a-1b7a-4731-b4ba-206da202ca03\",\"type\":\"DataRange1d\"},{\"attributes\":{},\"id\":\"4c820bbc-e728-4276-9ec5-e524128341ce\",\"type\":\"BasicTickFormatter\"},{\"attributes\":{},\"id\":\"7733b032-1c73-45de-987c-13ce76e8a6cd\",\"type\":\"LinearScale\"},{\"attributes\":{\"plot\":{\"id\":\"19c17c43-771f-4c64-8f2d-3b7dba1893de\",\"subtype\":\"Figure\",\"type\":\"Plot\"},\"ticker\":{\"id\":\"bde5015c-f75d-439f-83b2-c2b4066ba449\",\"type\":\"BasicTicker\"}},\"id\":\"26e61ea2-3dd7-468f-8e77-5c535cac5ee5\",\"type\":\"Grid\"},{\"attributes\":{\"formatter\":{\"id\":\"078e9bd1-2247-4202-a67f-75fba6955e40\",\"type\":\"BasicTickFormatter\"},\"plot\":{\"id\":\"19c17c43-771f-4c64-8f2d-3b7dba1893de\",\"subtype\":\"Figure\",\"type\":\"Plot\"},\"ticker\":{\"id\":\"bde5015c-f75d-439f-83b2-c2b4066ba449\",\"type\":\"BasicTicker\"}},\"id\":\"47e4dfbc-e22e-4615-9d6e-e4fdc106b189\",\"type\":\"LinearAxis\"},{\"attributes\":{},\"id\":\"bde5015c-f75d-439f-83b2-c2b4066ba449\",\"type\":\"BasicTicker\"},{\"attributes\":{\"formatter\":{\"id\":\"4c820bbc-e728-4276-9ec5-e524128341ce\",\"type\":\"BasicTickFormatter\"},\"plot\":{\"id\":\"19c17c43-771f-4c64-8f2d-3b7dba1893de\",\"subtype\":\"Figure\",\"type\":\"Plot\"},\"ticker\":{\"id\":\"1585eca9-47b2-4798-b080-6ca0e320032b\",\"type\":\"BasicTicker\"}},\"id\":\"e87cf0b2-ca06-46e7-b58a-5210accf8fe0\",\"type\":\"LinearAxis\"},{\"attributes\":{},\"id\":\"1585eca9-47b2-4798-b080-6ca0e320032b\",\"type\":\"BasicTicker\"},{\"attributes\":{\"dimension\":1,\"plot\":{\"id\":\"19c17c43-771f-4c64-8f2d-3b7dba1893de\",\"subtype\":\"Figure\",\"type\":\"Plot\"},\"ticker\":{\"id\":\"1585eca9-47b2-4798-b080-6ca0e320032b\",\"type\":\"BasicTicker\"}},\"id\":\"87bd9199-171e-4d99-9268-3a2b97c6d68e\",\"type\":\"Grid\"},{\"attributes\":{\"data_source\":{\"id\":\"dc432da4-77fe-4b7f-ab18-a1c426e5984e\",\"type\":\"ColumnDataSource\"},\"glyph\":{\"id\":\"b5a8f29d-83fd-4f4c-99aa-e281b03219e0\",\"type\":\"Circle\"},\"hover_glyph\":null,\"muted_glyph\":null,\"nonselection_glyph\":{\"id\":\"207f6466-f9c2-4212-ac4a-c157f979cf78\",\"type\":\"Circle\"},\"selection_glyph\":null,\"view\":{\"id\":\"1fcb76c1-32ff-49db-8ad5-ed71c86a73a6\",\"type\":\"CDSView\"}},\"id\":\"7c8e1688-5af0-42c7-b0b0-d54ac4d29ba8\",\"type\":\"GlyphRenderer\"},{\"attributes\":{\"fill_alpha\":{\"value\":0.1},\"fill_color\":{\"value\":\"#1f77b4\"},\"line_alpha\":{\"value\":0.1},\"line_color\":{\"value\":\"#1f77b4\"},\"size\":{\"units\":\"screen\",\"value\":8},\"x\":{\"field\":\"x1\"},\"y\":{\"field\":\"x2\"}},\"id\":\"207f6466-f9c2-4212-ac4a-c157f979cf78\",\"type\":\"Circle\"},{\"attributes\":{\"plot\":{\"id\":\"19c17c43-771f-4c64-8f2d-3b7dba1893de\",\"subtype\":\"Figure\",\"type\":\"Plot\"},\"source\":{\"id\":\"dc432da4-77fe-4b7f-ab18-a1c426e5984e\",\"type\":\"ColumnDataSource\"},\"text\":{\"field\":\"names\"},\"text_align\":\"center\",\"text_color\":{\"value\":\"#555555\"},\"text_font_size\":{\"value\":\"8pt\"},\"x\":{\"field\":\"x1\"},\"y\":{\"field\":\"x2\"},\"y_offset\":{\"value\":6}},\"id\":\"ba7a225b-dea9-458b-843f-5e2f81af911a\",\"type\":\"LabelSet\"}],\"root_ids\":[\"19c17c43-771f-4c64-8f2d-3b7dba1893de\"]},\"title\":\"Bokeh Application\",\"version\":\"0.12.10\"}};\n",
       "    var render_items = [{\"docid\":\"ef22c55f-dc1c-403e-b12d-153d1177ce3b\",\"elementid\":\"c16cbe38-cd09-4d67-b253-52ca5edf0b7d\",\"modelid\":\"19c17c43-771f-4c64-8f2d-3b7dba1893de\"}];\n",
       "\n",
       "    root.Bokeh.embed.embed_items(docs_json, render_items);\n",
       "  }\n",
       "\n",
       "  if (root.Bokeh !== undefined) {\n",
       "    embed_document(root);\n",
       "  } else {\n",
       "    var attempts = 0;\n",
       "    var timer = setInterval(function(root) {\n",
       "      if (root.Bokeh !== undefined) {\n",
       "        embed_document(root);\n",
       "        clearInterval(timer);\n",
       "      }\n",
       "      attempts++;\n",
       "      if (attempts > 100) {\n",
       "        console.log(\"Bokeh: ERROR: Unable to embed document because BokehJS library is missing\")\n",
       "        clearInterval(timer);\n",
       "      }\n",
       "    }, 10, root)\n",
       "  }\n",
       "})(window);"
      ],
      "application/vnd.bokehjs_exec.v0+json": ""
     },
     "metadata": {
      "application/vnd.bokehjs_exec.v0+json": {
       "id": "19c17c43-771f-4c64-8f2d-3b7dba1893de"
      }
     },
     "output_type": "display_data"
    }
   ],
   "source": [
    "p = figure(tools=\"pan,wheel_zoom,reset,save\",\n",
    "           toolbar_location=\"above\",\n",
    "           title=\"word2vec T-SNE for most common words\")\n",
    "\n",
    "source = ColumnDataSource(data=dict(x1=words_top_ted_tsne[:,0],\n",
    "                                    x2=words_top_ted_tsne[:,1],\n",
    "                                    names=words_top_ted))\n",
    "\n",
    "p.scatter(x=\"x1\", y=\"x2\", size=8, source=source)\n",
    "\n",
    "labels = LabelSet(x=\"x1\", y=\"x2\", text=\"names\", y_offset=6,\n",
    "                  text_font_size=\"8pt\", text_color=\"#555555\",\n",
    "                  source=source, text_align='center')\n",
    "p.add_layout(labels)\n",
    "\n",
    "show(p)"
   ]
  },
  {
   "cell_type": "markdown",
   "metadata": {},
   "source": [
    "### Part 5: Wiki Learnt Representations"
   ]
  },
  {
   "cell_type": "markdown",
   "metadata": {},
   "source": [
    "Download dataset"
   ]
  },
  {
   "cell_type": "code",
   "execution_count": 98,
   "metadata": {},
   "outputs": [],
   "source": [
    "if not os.path.isfile('wikitext-103-raw-v1.zip'):\n",
    "    urllib.request.urlretrieve(\"https://s3.amazonaws.com/research.metamind.io/wikitext/wikitext-103-raw-v1.zip\", filename=\"wikitext-103-raw-v1.zip\")"
   ]
  },
  {
   "cell_type": "code",
   "execution_count": 99,
   "metadata": {},
   "outputs": [],
   "source": [
    "with zipfile.ZipFile('wikitext-103-raw-v1.zip', 'r') as z:\n",
    "    input_text = str(z.open('wikitext-103-raw/wiki.train.raw', 'r').read(), encoding='utf-8') # Thanks Robert Bastian"
   ]
  },
  {
   "cell_type": "markdown",
   "metadata": {},
   "source": [
    "Preprocess sentences (note that it's important to remove small sentences for performance)"
   ]
  },
  {
   "cell_type": "code",
   "execution_count": 100,
   "metadata": {},
   "outputs": [],
   "source": [
    "sentences_wiki = []\n",
    "for line in input_text.split('\\n'):\n",
    "    s = [x for x in line.split('.') if x and len(x.split()) >= 5]\n",
    "    sentences_wiki.extend(s)\n",
    "    \n",
    "for s_i in range(len(sentences_wiki)):\n",
    "    sentences_wiki[s_i] = re.sub(\"[^a-z]\", \" \", sentences_wiki[s_i].lower())\n",
    "    sentences_wiki[s_i] = re.sub(r'\\([^)]*\\)', '', sentences_wiki[s_i])\n",
    "del input_text"
   ]
  },
  {
   "cell_type": "code",
   "execution_count": 103,
   "metadata": {},
   "outputs": [
    {
     "name": "stderr",
     "output_type": "stream",
     "text": [
      "IOPub data rate exceeded.\n",
      "The notebook server will temporarily stop sending output\n",
      "to the client in order to avoid crashing it.\n",
      "To change this limit, set the config variable\n",
      "`--NotebookApp.iopub_data_rate_limit`.\n",
      "\n",
      "Current values:\n",
      "NotebookApp.iopub_data_rate_limit=1000000.0 (bytes/sec)\n",
      "NotebookApp.rate_limit_window=3.0 (secs)\n",
      "\n"
     ]
    }
   ],
   "source": [
    "# sample 1/5 of the data\n",
    "shuffle(sentences_wiki)\n",
    "print(len(sentences_wiki))\n",
    "sentences_wiki = sentences_wiki[:int(len(sentences_wiki)/5)]\n",
    "print(len(sentences_wiki))"
   ]
  },
  {
   "cell_type": "markdown",
   "metadata": {},
   "source": [
    "Now, repeat all the same steps that you performed above. You should be able to reuse essentially all the code."
   ]
  },
  {
   "cell_type": "code",
   "execution_count": 108,
   "metadata": {},
   "outputs": [
    {
     "name": "stdout",
     "output_type": "stream",
     "text": [
      "(1000,)\n"
     ]
    },
    {
     "data": {
      "text/html": [
       "\n",
       "<div class=\"bk-root\">\n",
       "    <div class=\"bk-plotdiv\" id=\"4ae9e8a3-293b-4e53-bb14-2378a79d6926\"></div>\n",
       "</div>"
      ]
     },
     "metadata": {},
     "output_type": "display_data"
    },
    {
     "data": {
      "application/javascript": [
       "(function(root) {\n",
       "  function embed_document(root) {\n",
       "    var docs_json = {\"3ff93763-d83b-458b-9a99-167efd2ed9b2\":{\"roots\":{\"references\":[{\"attributes\":{\"plot\":null,\"text\":\"Top-1000 words distribution\"},\"id\":\"83d0ce5b-c6bd-485f-b479-d91500d31e31\",\"type\":\"Title\"},{\"attributes\":{\"below\":[{\"id\":\"2a72bf61-4638-406c-8350-16ec8bc62cd9\",\"type\":\"LinearAxis\"}],\"left\":[{\"id\":\"944fe595-ad3d-42d5-9d04-878d41b79541\",\"type\":\"LinearAxis\"}],\"renderers\":[{\"id\":\"2a72bf61-4638-406c-8350-16ec8bc62cd9\",\"type\":\"LinearAxis\"},{\"id\":\"06720e88-37ee-431f-a517-2b33576df483\",\"type\":\"Grid\"},{\"id\":\"944fe595-ad3d-42d5-9d04-878d41b79541\",\"type\":\"LinearAxis\"},{\"id\":\"08bb937f-d576-4208-8e30-2d4a6db4e834\",\"type\":\"Grid\"},{\"id\":\"a9c0a862-29b1-47ca-948f-8e3397507da2\",\"type\":\"GlyphRenderer\"}],\"title\":{\"id\":\"83d0ce5b-c6bd-485f-b479-d91500d31e31\",\"type\":\"Title\"},\"toolbar\":{\"id\":\"54744792-881a-4bab-a035-e16aba158d44\",\"type\":\"Toolbar\"},\"toolbar_location\":\"above\",\"x_range\":{\"id\":\"90cb3e57-7a86-46eb-99f6-29c93ed4731a\",\"type\":\"DataRange1d\"},\"x_scale\":{\"id\":\"a2b4a22d-25a9-4337-865d-097381e6832a\",\"type\":\"LinearScale\"},\"y_range\":{\"id\":\"d527ae09-3405-45ba-89d4-06f81e1794d0\",\"type\":\"DataRange1d\"},\"y_scale\":{\"id\":\"cd233825-11b4-46f4-beeb-c6a6715e508a\",\"type\":\"LinearScale\"}},\"id\":\"4521d7c0-9a59-4dbf-8482-f6c5e3819d84\",\"subtype\":\"Figure\",\"type\":\"Plot\"},{\"attributes\":{},\"id\":\"f05c7cda-2edd-4c65-9f9c-0d93363b1f1d\",\"type\":\"BasicTicker\"},{\"attributes\":{\"callback\":null},\"id\":\"d527ae09-3405-45ba-89d4-06f81e1794d0\",\"type\":\"DataRange1d\"},{\"attributes\":{\"formatter\":{\"id\":\"8b30aa3a-7e9d-4bfe-9753-0378b168ee91\",\"type\":\"BasicTickFormatter\"},\"plot\":{\"id\":\"4521d7c0-9a59-4dbf-8482-f6c5e3819d84\",\"subtype\":\"Figure\",\"type\":\"Plot\"},\"ticker\":{\"id\":\"b5f9e95d-31d5-4dd4-bad0-94df7d4d7a69\",\"type\":\"BasicTicker\"}},\"id\":\"2a72bf61-4638-406c-8350-16ec8bc62cd9\",\"type\":\"LinearAxis\"},{\"attributes\":{},\"id\":\"26fac6fe-41de-4522-80fc-104c88e7bbfd\",\"type\":\"SaveTool\"},{\"attributes\":{},\"id\":\"0d4186af-c7d4-403f-bed9-7bfd2890aa4a\",\"type\":\"WheelZoomTool\"},{\"attributes\":{},\"id\":\"c7231e6a-5279-4fa0-8fa3-05f2472306e6\",\"type\":\"BasicTickFormatter\"},{\"attributes\":{},\"id\":\"a2b4a22d-25a9-4337-865d-097381e6832a\",\"type\":\"LinearScale\"},{\"attributes\":{},\"id\":\"c4798cfa-f29f-492f-92ee-7ed05097914c\",\"type\":\"PanTool\"},{\"attributes\":{},\"id\":\"b5f9e95d-31d5-4dd4-bad0-94df7d4d7a69\",\"type\":\"BasicTicker\"},{\"attributes\":{},\"id\":\"8b30aa3a-7e9d-4bfe-9753-0378b168ee91\",\"type\":\"BasicTickFormatter\"},{\"attributes\":{},\"id\":\"b6f4356b-84b0-439c-8f39-252f90e69da3\",\"type\":\"ResetTool\"},{\"attributes\":{\"data_source\":{\"id\":\"d1ead0a2-e29b-4d79-bfd8-b8b93c369123\",\"type\":\"ColumnDataSource\"},\"glyph\":{\"id\":\"372c7458-ac81-40e4-95a4-3fdb3a1b1b41\",\"type\":\"Quad\"},\"hover_glyph\":null,\"muted_glyph\":null,\"nonselection_glyph\":{\"id\":\"71a8384d-7c1a-41f8-9b7f-4af3d4b3716a\",\"type\":\"Quad\"},\"selection_glyph\":null,\"view\":{\"id\":\"3cdf1a1a-27fc-44a3-bb91-993152a8d498\",\"type\":\"CDSView\"}},\"id\":\"a9c0a862-29b1-47ca-948f-8e3397507da2\",\"type\":\"GlyphRenderer\"},{\"attributes\":{\"dimension\":1,\"plot\":{\"id\":\"4521d7c0-9a59-4dbf-8482-f6c5e3819d84\",\"subtype\":\"Figure\",\"type\":\"Plot\"},\"ticker\":{\"id\":\"f05c7cda-2edd-4c65-9f9c-0d93363b1f1d\",\"type\":\"BasicTicker\"}},\"id\":\"08bb937f-d576-4208-8e30-2d4a6db4e834\",\"type\":\"Grid\"},{\"attributes\":{\"callback\":null},\"id\":\"90cb3e57-7a86-46eb-99f6-29c93ed4731a\",\"type\":\"DataRange1d\"},{\"attributes\":{\"source\":{\"id\":\"d1ead0a2-e29b-4d79-bfd8-b8b93c369123\",\"type\":\"ColumnDataSource\"}},\"id\":\"3cdf1a1a-27fc-44a3-bb91-993152a8d498\",\"type\":\"CDSView\"},{\"attributes\":{},\"id\":\"cd233825-11b4-46f4-beeb-c6a6715e508a\",\"type\":\"LinearScale\"},{\"attributes\":{\"plot\":{\"id\":\"4521d7c0-9a59-4dbf-8482-f6c5e3819d84\",\"subtype\":\"Figure\",\"type\":\"Plot\"},\"ticker\":{\"id\":\"b5f9e95d-31d5-4dd4-bad0-94df7d4d7a69\",\"type\":\"BasicTicker\"}},\"id\":\"06720e88-37ee-431f-a517-2b33576df483\",\"type\":\"Grid\"},{\"attributes\":{\"bottom\":{\"value\":0},\"fill_color\":{\"value\":\"#1f77b4\"},\"left\":{\"field\":\"left\"},\"line_color\":{\"value\":\"#555555\"},\"right\":{\"field\":\"right\"},\"top\":{\"field\":\"top\"}},\"id\":\"372c7458-ac81-40e4-95a4-3fdb3a1b1b41\",\"type\":\"Quad\"},{\"attributes\":{\"active_drag\":\"auto\",\"active_inspect\":\"auto\",\"active_scroll\":\"auto\",\"active_tap\":\"auto\",\"tools\":[{\"id\":\"c4798cfa-f29f-492f-92ee-7ed05097914c\",\"type\":\"PanTool\"},{\"id\":\"0d4186af-c7d4-403f-bed9-7bfd2890aa4a\",\"type\":\"WheelZoomTool\"},{\"id\":\"b6f4356b-84b0-439c-8f39-252f90e69da3\",\"type\":\"ResetTool\"},{\"id\":\"26fac6fe-41de-4522-80fc-104c88e7bbfd\",\"type\":\"SaveTool\"}]},\"id\":\"54744792-881a-4bab-a035-e16aba158d44\",\"type\":\"Toolbar\"},{\"attributes\":{\"bottom\":{\"value\":0},\"fill_alpha\":{\"value\":0.1},\"fill_color\":{\"value\":\"#1f77b4\"},\"left\":{\"field\":\"left\"},\"line_alpha\":{\"value\":0.1},\"line_color\":{\"value\":\"#1f77b4\"},\"right\":{\"field\":\"right\"},\"top\":{\"field\":\"top\"}},\"id\":\"71a8384d-7c1a-41f8-9b7f-4af3d4b3716a\",\"type\":\"Quad\"},{\"attributes\":{\"formatter\":{\"id\":\"c7231e6a-5279-4fa0-8fa3-05f2472306e6\",\"type\":\"BasicTickFormatter\"},\"plot\":{\"id\":\"4521d7c0-9a59-4dbf-8482-f6c5e3819d84\",\"subtype\":\"Figure\",\"type\":\"Plot\"},\"ticker\":{\"id\":\"f05c7cda-2edd-4c65-9f9c-0d93363b1f1d\",\"type\":\"BasicTicker\"}},\"id\":\"944fe595-ad3d-42d5-9d04-878d41b79541\",\"type\":\"LinearAxis\"},{\"attributes\":{\"callback\":null,\"column_names\":[\"left\",\"right\",\"top\"],\"data\":{\"left\":{\"__ndarray__\":\"AAAAAADAUkDXo3A9Cm+CQNejcD0KQ5FAwvUoXI9OmUDXo3A9Cq2gQM3MzMzMsqRAwvUoXI+4qEC4HoXrUb6sQNejcD0KYrBAUrgehetkskDNzMzMzGe0QEjhehSuarZAwvUoXI9tuEA9CtejcHC6QLgehetRc7xAMzMzMzN2vkDXo3A9ijzAQBSuR+H6PcFAUrgehWs/wkCPwvUo3EDDQM3MzMxMQsRACtejcL1DxUBI4XoULkXGQIXrUbieRsdAwvUoXA9IyEAAAAAAgEnJQD0K16PwSspAexSuR2FMy0C4HoXr0U3MQPYoXI9CT81AMzMzM7NQzkBxPQrXI1LPQNejcD3KKdBA9ihcj4Kq0EAUrkfhOivRQDMzMzPzq9FAUrgehass0kBxPQrXY63SQI/C9SgcLtNArkfhetSu00DNzMzMjC/UQOtRuB5FsNRACtejcP0w1UApXI/CtbHVQEjhehRuMtZAZmZmZiaz1kCF61G43jPXQKRwPQqXtNdAwvUoXE812EDhehSuB7bYQAAAAADANtlAH4XrUXi32UA9CtejMDjaQFyPwvXouNpAexSuR6E520CamZmZWbrbQLgehesRO9xA16NwPcq73ED2KFyPgjzdQBSuR+E6vd1AMzMzM/M93kBSuB6Fq77eQHE9CtdjP99Aj8L1KBzA30DXo3A9aiDgQGZmZmbGYOBA9ihcjyKh4ECF61G4fuHgQBSuR+HaIeFApHA9Cjdi4UAzMzMzk6LhQMP1KFzv4uFAUrgehUsj4kDhehSup2PiQHE9CtcDpOJAAAAAAGDk4kCPwvUovCTjQB+F61EYZeNArkfhenSl40A9Ctej0OXjQM3MzMwsJuRAXI/C9Yhm5EDrUbge5abkQHsUrkdB5+RACtejcJ0n5UCamZmZ+WflQClcj8JVqOVAuB6F67Ho5UBI4XoUDinmQNejcD1qaeZAZmZmZsap5kD2KFyPIurmQIXrUbh+KudAFK5H4dpq50CkcD0KN6vnQDMzMzOT6+dAwvUoXO8r6EBSuB6FS2zoQOF6FK6nrOhAcT0K1wPt6EA=\",\"dtype\":\"float64\",\"shape\":[100]},\"right\":{\"__ndarray__\":\"16NwPQpvgkDXo3A9CkORQML1KFyPTplA16NwPQqtoEDNzMzMzLKkQML1KFyPuKhAuB6F61G+rEDXo3A9CmKwQFK4HoXrZLJAzczMzMxntEBI4XoUrmq2QML1KFyPbbhAPQrXo3BwukC4HoXrUXO8QDMzMzMzdr5A16NwPYo8wEAUrkfh+j3BQFK4HoVrP8JAj8L1KNxAw0DNzMzMTELEQArXo3C9Q8VASOF6FC5FxkCF61G4nkbHQML1KFwPSMhAAAAAAIBJyUA9Ctej8ErKQHsUrkdhTMtAuB6F69FNzED2KFyPQk/NQDMzMzOzUM5AcT0K1yNSz0DXo3A9yinQQPYoXI+CqtBAFK5H4Tor0UAzMzMz86vRQFK4HoWrLNJAcT0K12Ot0kCPwvUoHC7TQK5H4XrUrtNAzczMzIwv1EDrUbgeRbDUQArXo3D9MNVAKVyPwrWx1UBI4XoUbjLWQGZmZmYms9ZAhetRuN4z10CkcD0Kl7TXQML1KFxPNdhA4XoUrge22EAAAAAAwDbZQB+F61F4t9lAPQrXozA42kBcj8L16LjaQHsUrkehOdtAmpmZmVm620C4HoXrETvcQNejcD3Ku9xA9ihcj4I83UAUrkfhOr3dQDMzMzPzPd5AUrgehau+3kBxPQrXYz/fQI/C9SgcwN9A16NwPWog4EBmZmZmxmDgQPYoXI8ioeBAhetRuH7h4EAUrkfh2iHhQKRwPQo3YuFAMzMzM5Oi4UDD9Shc7+LhQFK4HoVLI+JA4XoUrqdj4kBxPQrXA6TiQAAAAABg5OJAj8L1KLwk40AfhetRGGXjQK5H4Xp0peNAPQrXo9Dl40DNzMzMLCbkQFyPwvWIZuRA61G4HuWm5EB7FK5HQefkQArXo3CdJ+VAmpmZmfln5UApXI/CVajlQLgeheux6OVASOF6FA4p5kDXo3A9amnmQGZmZmbGqeZA9ihcjyLq5kCF61G4firnQBSuR+HaaudApHA9Cjer50AzMzMzk+vnQML1KFzvK+hAUrgehUts6EDhehSup6zoQHE9CtcD7ehAAAAAAGAt6UA=\",\"dtype\":\"float64\",\"shape\":[100]},\"top\":{\"__ndarray__\":\"lqahyHtGXT+OvceHidYSP/KjYM/XSgA/7cw4w41d5D7o9RC3Q3DYPvSjYM/XSsA+8KNgz9dK4D7wo2DP10rQPgAAAAAAAAAA8KNgz9dK0D7wo2DP10rQPvijYM/XStA+AAAAAAAAAAAAAAAAAAAAAAAAAAAAAAAAAAAAAAAAAAD4o2DP10rAPgAAAAAAAAAAAAAAAAAAAAAAAAAAAAAAAAAAAAAAAAAAAAAAAAAAAAAAAAAAAAAAAAAAAAAAAAAAAAAAAAAAAAAAAAAAAAAAAAAAAAAAAAAAAAAAAAAAAAAAAAAAAAAAAAAAAAAAAAAA6KNgz9dKwD4AAAAAAAAAAAAAAAAAAAAACKRgz9dKwD4AAAAAAAAAAAAAAAAAAAAAAAAAAAAAAAAAAAAAAAAAAOijYM/XSsA+AAAAAAAAAAAAAAAAAAAAAAAAAAAAAAAA6KNgz9dKwD4AAAAAAAAAAAAAAAAAAAAAAAAAAAAAAAAAAAAAAAAAAAAAAAAAAAAAAAAAAAAAAAAAAAAAAAAAAAAAAAAAAAAAAAAAAAAAAAAAAAAAAAAAAAAAAAAAAAAAAAAAAAAAAAAAAAAAAAAAAAAAAAAAAAAAAAAAAAAAAAAAAAAAAAAAAAAAAAAAAAAAAAAAAAAAAAAAAAAAAAAAAAAAAAAAAAAAAAAAAAAAAAAAAAAAAAAAAAAAAAAAAAAAAAAAAAAAAAAAAAAAAAAAAAAAAAAAAAAAAAAAAAAAAAAAAAAAAAAAAAAAAAAAAAAAAAAAAAAAAAAAAAAAAAAAAAAAAAAAAAAAAAAAAAAAAAAAAAAAAAAAAAAAAAAAAAAAAAAAAAAAAAAAAAAAAAAAAAAAAAAAAAAAAAAAAAAAAAAAAAAAAAAAAAAAAAAAAAAAAAAAAAAAAAAAAAAAAAAAAAAAAAAAAAAAAAAAAAAAAAAAAAAAAAAAAAAAAAAAAAAAAAAAAAAAAAAAAAAAAAAAAAAAAAAAAAAAAAAAAAAAAAAAAAAAAAAAAAAAAAAAAAAAAAAAAAAAAAAAAAAAAAAAAAAAAAAAAAAACKRgz9dKwD4=\",\"dtype\":\"float64\",\"shape\":[100]}}},\"id\":\"d1ead0a2-e29b-4d79-bfd8-b8b93c369123\",\"type\":\"ColumnDataSource\"}],\"root_ids\":[\"4521d7c0-9a59-4dbf-8482-f6c5e3819d84\"]},\"title\":\"Bokeh Application\",\"version\":\"0.12.10\"}};\n",
       "    var render_items = [{\"docid\":\"3ff93763-d83b-458b-9a99-167efd2ed9b2\",\"elementid\":\"4ae9e8a3-293b-4e53-bb14-2378a79d6926\",\"modelid\":\"4521d7c0-9a59-4dbf-8482-f6c5e3819d84\"}];\n",
       "\n",
       "    root.Bokeh.embed.embed_items(docs_json, render_items);\n",
       "  }\n",
       "\n",
       "  if (root.Bokeh !== undefined) {\n",
       "    embed_document(root);\n",
       "  } else {\n",
       "    var attempts = 0;\n",
       "    var timer = setInterval(function(root) {\n",
       "      if (root.Bokeh !== undefined) {\n",
       "        embed_document(root);\n",
       "        clearInterval(timer);\n",
       "      }\n",
       "      attempts++;\n",
       "      if (attempts > 100) {\n",
       "        console.log(\"Bokeh: ERROR: Unable to embed document because BokehJS library is missing\")\n",
       "        clearInterval(timer);\n",
       "      }\n",
       "    }, 10, root)\n",
       "  }\n",
       "})(window);"
      ],
      "application/vnd.bokehjs_exec.v0+json": ""
     },
     "metadata": {
      "application/vnd.bokehjs_exec.v0+json": {
       "id": "4521d7c0-9a59-4dbf-8482-f6c5e3819d84"
      }
     },
     "output_type": "display_data"
    }
   ],
   "source": [
    "vectorizer2 = CountVectorizer()\n",
    "counts_ted_top10002=vectorizer.fit_transform(sentences_wiki)\n",
    "counts_ted_top10002=np.sum(counts_ted_top10002,axis=0)\n",
    "counts_ted_top10002=np.squeeze(np.asarray(counts_ted_top10002))\n",
    "counts_ted_top2=vectorizer.get_feature_names()\n",
    "sort_indices2 = np.argsort(counts_ted_top10002)\n",
    "counts_ted_top10002=counts_ted_top10002[sort_indices2][-1000:]\n",
    "words_top_ted2=np.array(counts_ted_top2)[sort_indices2][-1000:]\n",
    "print(counts_ted_top10002.shape)\n",
    "\n",
    "hist2, edges2 = np.histogram(counts_ted_top10002, density=True, bins=100, normed=True)\n",
    "\n",
    "p = figure(tools=\"pan,wheel_zoom,reset,save\",\n",
    "           toolbar_location=\"above\",\n",
    "           title=\"Top-1000 words distribution\")\n",
    "p.quad(top=hist2, bottom=0, left=edges2[:-1], right=edges2[1:], line_color=\"#555555\")\n",
    "show(p)\n",
    "sentences_ted2 = []\n",
    "for sent_str in sentences_wiki:\n",
    "    tokens = re.sub(r\"[^a-z0-9]+\", \" \", sent_str.lower()).split()\n",
    "    sentences_ted2.append(tokens)\n",
    "model_ted2 = Word2Vec(sentences_ted2, size=100, min_count=10)"
   ]
  },
  {
   "cell_type": "markdown",
   "metadata": {},
   "source": [
    "#### t-SNE visualization"
   ]
  },
  {
   "cell_type": "code",
   "execution_count": 109,
   "metadata": {},
   "outputs": [
    {
     "name": "stderr",
     "output_type": "stream",
     "text": [
      "C:\\Users\\JiazhenShen\\Anaconda3\\lib\\site-packages\\ipykernel_launcher.py:4: DeprecationWarning: Call to deprecated `__getitem__` (Method will be removed in 4.0.0, use self.wv.__getitem__() instead).\n",
      "  after removing the cwd from sys.path.\n"
     ]
    }
   ],
   "source": [
    "# This assumes words_top_wiki is a list of strings, the top 1000 words\n",
    "words_top_wiki=words_top_ted2\n",
    "model_wiki=model_ted2\n",
    "words_top_vec_wiki = model_wiki[words_top_wiki]\n",
    "\n",
    "tsne = TSNE(n_components=2, random_state=0)\n",
    "words_top_wiki_tsne = tsne.fit_transform(words_top_vec_wiki)"
   ]
  },
  {
   "cell_type": "code",
   "execution_count": 110,
   "metadata": {},
   "outputs": [
    {
     "data": {
      "text/html": [
       "\n",
       "<div class=\"bk-root\">\n",
       "    <div class=\"bk-plotdiv\" id=\"ba88f777-d87f-4c3a-b439-62351fd1486b\"></div>\n",
       "</div>"
      ]
     },
     "metadata": {},
     "output_type": "display_data"
    },
    {
     "data": {
      "application/javascript": [
       "(function(root) {\n",
       "  function embed_document(root) {\n",
       "    var docs_json = {\"99e408d1-5d52-4b39-b83a-6b21f080d7f7\":{\"roots\":{\"references\":[{\"attributes\":{\"plot\":null,\"text\":\"word2vec T-SNE for most common words\"},\"id\":\"8430c3ab-b4ef-4f32-9d23-df6439ebceb5\",\"type\":\"Title\"},{\"attributes\":{\"source\":{\"id\":\"30997031-ea9a-4c44-940f-ad23e3418d94\",\"type\":\"ColumnDataSource\"}},\"id\":\"9d1e0936-8150-40a5-bdb7-be8ffcb27c5b\",\"type\":\"CDSView\"},{\"attributes\":{},\"id\":\"1e6427c6-9dc8-4359-9ee1-22beef060d97\",\"type\":\"BasicTicker\"},{\"attributes\":{\"plot\":{\"id\":\"ae2f7060-f988-4a48-9f14-22e109c44ff4\",\"subtype\":\"Figure\",\"type\":\"Plot\"},\"source\":{\"id\":\"30997031-ea9a-4c44-940f-ad23e3418d94\",\"type\":\"ColumnDataSource\"},\"text\":{\"field\":\"names\"},\"text_align\":\"center\",\"text_color\":{\"value\":\"#555555\"},\"text_font_size\":{\"value\":\"8pt\"},\"x\":{\"field\":\"x1\"},\"y\":{\"field\":\"x2\"},\"y_offset\":{\"value\":6}},\"id\":\"7dd2b506-d632-4941-b7d5-353752e813e1\",\"type\":\"LabelSet\"},{\"attributes\":{},\"id\":\"ca935f5d-ddb5-45d5-9af3-77961467247f\",\"type\":\"BasicTicker\"},{\"attributes\":{\"callback\":null},\"id\":\"1b9221e2-5bda-4a26-8296-3e3c7f147224\",\"type\":\"DataRange1d\"},{\"attributes\":{},\"id\":\"defdfa8c-9f31-49a5-b7f4-dde1857b9675\",\"type\":\"LinearScale\"},{\"attributes\":{\"data_source\":{\"id\":\"30997031-ea9a-4c44-940f-ad23e3418d94\",\"type\":\"ColumnDataSource\"},\"glyph\":{\"id\":\"ae4059d0-a616-4079-9563-d277c7a7bfcf\",\"type\":\"Circle\"},\"hover_glyph\":null,\"muted_glyph\":null,\"nonselection_glyph\":{\"id\":\"e839e2be-3176-49d8-8a47-4ae6cd6b2c0d\",\"type\":\"Circle\"},\"selection_glyph\":null,\"view\":{\"id\":\"9d1e0936-8150-40a5-bdb7-be8ffcb27c5b\",\"type\":\"CDSView\"}},\"id\":\"4251b96b-5539-4067-a620-df03c3c35298\",\"type\":\"GlyphRenderer\"},{\"attributes\":{},\"id\":\"3d94702e-02bd-48c9-9394-bfda341a7e8d\",\"type\":\"SaveTool\"},{\"attributes\":{},\"id\":\"1ffe2615-5e00-48c4-8540-463f5e478600\",\"type\":\"BasicTickFormatter\"},{\"attributes\":{\"fill_color\":{\"value\":\"#1f77b4\"},\"line_color\":{\"value\":\"#1f77b4\"},\"size\":{\"units\":\"screen\",\"value\":8},\"x\":{\"field\":\"x1\"},\"y\":{\"field\":\"x2\"}},\"id\":\"ae4059d0-a616-4079-9563-d277c7a7bfcf\",\"type\":\"Circle\"},{\"attributes\":{\"active_drag\":\"auto\",\"active_inspect\":\"auto\",\"active_scroll\":\"auto\",\"active_tap\":\"auto\",\"tools\":[{\"id\":\"8661dcc6-9060-4ff8-b17f-75fa835328fb\",\"type\":\"PanTool\"},{\"id\":\"be78c1ad-b1ef-4186-9cc9-b6639d0b1fa3\",\"type\":\"WheelZoomTool\"},{\"id\":\"11bd9d05-a8d5-42e7-baaa-dde87463ae83\",\"type\":\"ResetTool\"},{\"id\":\"3d94702e-02bd-48c9-9394-bfda341a7e8d\",\"type\":\"SaveTool\"}]},\"id\":\"916e89bb-59ca-4f06-a1cb-bcbfa9f09d36\",\"type\":\"Toolbar\"},{\"attributes\":{},\"id\":\"cc1aa1d8-5a37-4880-9129-d2f10a050302\",\"type\":\"LinearScale\"},{\"attributes\":{},\"id\":\"82d59192-624d-426c-b01b-24253060e06c\",\"type\":\"BasicTickFormatter\"},{\"attributes\":{\"below\":[{\"id\":\"cfa88601-813e-48df-8346-39504e25cfdd\",\"type\":\"LinearAxis\"}],\"left\":[{\"id\":\"3183a56f-2262-4975-8475-3b915b56717c\",\"type\":\"LinearAxis\"}],\"renderers\":[{\"id\":\"cfa88601-813e-48df-8346-39504e25cfdd\",\"type\":\"LinearAxis\"},{\"id\":\"cd06ee03-7026-4395-93bc-04afcf3c5fac\",\"type\":\"Grid\"},{\"id\":\"3183a56f-2262-4975-8475-3b915b56717c\",\"type\":\"LinearAxis\"},{\"id\":\"306bee6a-97af-4907-8c49-91513c09f7fb\",\"type\":\"Grid\"},{\"id\":\"4251b96b-5539-4067-a620-df03c3c35298\",\"type\":\"GlyphRenderer\"},{\"id\":\"7dd2b506-d632-4941-b7d5-353752e813e1\",\"type\":\"LabelSet\"}],\"title\":{\"id\":\"8430c3ab-b4ef-4f32-9d23-df6439ebceb5\",\"type\":\"Title\"},\"toolbar\":{\"id\":\"916e89bb-59ca-4f06-a1cb-bcbfa9f09d36\",\"type\":\"Toolbar\"},\"toolbar_location\":\"above\",\"x_range\":{\"id\":\"1b9221e2-5bda-4a26-8296-3e3c7f147224\",\"type\":\"DataRange1d\"},\"x_scale\":{\"id\":\"cc1aa1d8-5a37-4880-9129-d2f10a050302\",\"type\":\"LinearScale\"},\"y_range\":{\"id\":\"e985792a-5cbd-4e24-844b-a26e8a2bf432\",\"type\":\"DataRange1d\"},\"y_scale\":{\"id\":\"defdfa8c-9f31-49a5-b7f4-dde1857b9675\",\"type\":\"LinearScale\"}},\"id\":\"ae2f7060-f988-4a48-9f14-22e109c44ff4\",\"subtype\":\"Figure\",\"type\":\"Plot\"},{\"attributes\":{},\"id\":\"be78c1ad-b1ef-4186-9cc9-b6639d0b1fa3\",\"type\":\"WheelZoomTool\"},{\"attributes\":{},\"id\":\"8661dcc6-9060-4ff8-b17f-75fa835328fb\",\"type\":\"PanTool\"},{\"attributes\":{\"dimension\":1,\"plot\":{\"id\":\"ae2f7060-f988-4a48-9f14-22e109c44ff4\",\"subtype\":\"Figure\",\"type\":\"Plot\"},\"ticker\":{\"id\":\"ca935f5d-ddb5-45d5-9af3-77961467247f\",\"type\":\"BasicTicker\"}},\"id\":\"306bee6a-97af-4907-8c49-91513c09f7fb\",\"type\":\"Grid\"},{\"attributes\":{\"formatter\":{\"id\":\"1ffe2615-5e00-48c4-8540-463f5e478600\",\"type\":\"BasicTickFormatter\"},\"plot\":{\"id\":\"ae2f7060-f988-4a48-9f14-22e109c44ff4\",\"subtype\":\"Figure\",\"type\":\"Plot\"},\"ticker\":{\"id\":\"ca935f5d-ddb5-45d5-9af3-77961467247f\",\"type\":\"BasicTicker\"}},\"id\":\"3183a56f-2262-4975-8475-3b915b56717c\",\"type\":\"LinearAxis\"},{\"attributes\":{\"callback\":null},\"id\":\"e985792a-5cbd-4e24-844b-a26e8a2bf432\",\"type\":\"DataRange1d\"},{\"attributes\":{\"callback\":null,\"column_names\":[\"x1\",\"x2\",\"names\"],\"data\":{\"names\":[\"teams\",\"lived\",\"daughter\",\"increase\",\"subsequently\",\"leader\",\"allowing\",\"inches\",\"discovered\",\"difficult\",\"experience\",\"fans\",\"captured\",\"extended\",\"launched\",\"winter\",\"subject\",\"needed\",\"married\",\"operations\",\"done\",\"pacific\",\"bill\",\"fantasy\",\"producer\",\"cm\",\"religious\",\"upper\",\"texas\",\"corps\",\"festival\",\"traditional\",\"elected\",\"dead\",\"competition\",\"appears\",\"meeting\",\"date\",\"china\",\"michigan\",\"native\",\"via\",\"jack\",\"martin\",\"assigned\",\"agreed\",\"changed\",\"wall\",\"immediately\",\"study\",\"unable\",\"ring\",\"regiment\",\"commander\",\"countries\",\"dark\",\"twenty\",\"today\",\"shows\",\"dance\",\"awarded\",\"johnson\",\"sister\",\"course\",\"moving\",\"britain\",\"episodes\",\"hour\",\"related\",\"entertainment\",\"got\",\"election\",\"russian\",\"spanish\",\"finally\",\"decision\",\"billboard\",\"wind\",\"suffered\",\"might\",\"science\",\"prior\",\"minister\",\"makes\",\"conference\",\"required\",\"scenes\",\"issue\",\"africa\",\"attention\",\"daily\",\"nd\",\"copies\",\"schools\",\"department\",\"richard\",\"artist\",\"whole\",\"greater\",\"allow\",\"pre\",\"declared\",\"give\",\"indian\",\"takes\",\"practice\",\"primary\",\"key\",\"really\",\"blue\",\"cover\",\"commercial\",\"matches\",\"speed\",\"look\",\"iii\",\"suggested\",\"smaller\",\"regular\",\"professional\",\"material\",\"novel\",\"background\",\"press\",\"chicago\",\"terms\",\"changes\",\"helped\",\"effects\",\"probably\",\"independent\",\"starting\",\"type\",\"god\",\"face\",\"numbers\",\"islands\",\"current\",\"asked\",\"network\",\"castle\",\"industry\",\"pass\",\"longer\",\"cost\",\"carried\",\"score\",\"leaving\",\"sales\",\"trade\",\"numerous\",\"living\",\"yard\",\"ran\",\"fact\",\"feature\",\"angeles\",\"mostly\",\"running\",\"forward\",\"natural\",\"something\",\"uk\",\"soviet\",\"empire\",\"health\",\"limited\",\"nearly\",\"earth\",\"provide\",\"self\",\"ball\",\"peak\",\"friend\",\"peter\",\"outside\",\"albums\",\"hot\",\"japan\",\"lack\",\"lake\",\"private\",\"referred\",\"services\",\"infantry\",\"estimated\",\"location\",\"response\",\"flight\",\"roman\",\"elements\",\"india\",\"green\",\"big\",\"view\",\"shortly\",\"wide\",\"whose\",\"civil\",\"structure\",\"village\",\"lyrics\",\"appointed\",\"la\",\"collection\",\"create\",\"latter\",\"arrived\",\"particularly\",\"initial\",\"change\",\"car\",\"contract\",\"compared\",\"district\",\"mark\",\"movement\",\"space\",\"term\",\"passed\",\"woman\",\"centre\",\"brigade\",\"possible\",\"percent\",\"groups\",\"money\",\"going\",\"community\",\"entered\",\"voice\",\"complete\",\"proposed\",\"officers\",\"winds\",\"signed\",\"singles\",\"introduced\",\"news\",\"railway\",\"fifth\",\"destroyed\",\"child\",\"claimed\",\"associated\",\"remaining\",\"personal\",\"itself\",\"relationship\",\"square\",\"parts\",\"problems\",\"surface\",\"virginia\",\"larger\",\"jackson\",\"room\",\"already\",\"person\",\"quickly\",\"model\",\"operation\",\"battalion\",\"our\",\"chief\",\"nature\",\"board\",\"highest\",\"section\",\"plans\",\"chinese\",\"paul\",\"gold\",\"yards\",\"becoming\",\"writer\",\"don\",\"idea\",\"winning\",\"find\",\"food\",\"praised\",\"museum\",\"edward\",\"evidence\",\"stars\",\"reception\",\"germany\",\"rights\",\"report\",\"must\",\"staff\",\"media\",\"social\",\"smith\",\"especially\",\"films\",\"california\",\"education\",\"queen\",\"los\",\"anti\",\"approximately\",\"society\",\"usually\",\"turn\",\"police\",\"entire\",\"stone\",\"naval\",\"reviews\",\"future\",\"depression\",\"goal\",\"units\",\"manager\",\"length\",\"yet\",\"nine\",\"brother\",\"crew\",\"musical\",\"cross\",\"tracks\",\"al\",\"whom\",\"finished\",\"san\",\"charles\",\"told\",\"lower\",\"attempt\",\"past\",\"cut\",\"troops\",\"kingdom\",\"pop\",\"grand\",\"involved\",\"shot\",\"sometimes\",\"david\",\"does\",\"higher\",\"real\",\"plot\",\"directed\",\"previously\",\"students\",\"governor\",\"training\",\"mid\",\"gun\",\"positive\",\"ordered\",\"european\",\"robert\",\"far\",\"test\",\"increased\",\"process\",\"turned\",\"above\",\"bay\",\"brown\",\"beginning\",\"saying\",\"plan\",\"loss\",\"female\",\"council\",\"forced\",\"example\",\"taking\",\"list\",\"free\",\"designed\",\"rest\",\"cup\",\"hand\",\"failed\",\"port\",\"debut\",\"mph\",\"successful\",\"business\",\"ended\",\"round\",\"runs\",\"site\",\"interest\",\"cast\",\"committee\",\"available\",\"overall\",\"lines\",\"mi\",\"wanted\",\"canada\",\"put\",\"co\",\"provided\",\"thus\",\"ny\",\"studio\",\"met\",\"largest\",\"better\",\"works\",\"appearance\",\"additional\",\"generally\",\"human\",\"critical\",\"association\",\"opening\",\"program\",\"go\",\"earlier\",\"middle\",\"hall\",\"featured\",\"navy\",\"hours\",\"hill\",\"spent\",\"victory\",\"thomas\",\"move\",\"awards\",\"command\",\"popular\",\"events\",\"either\",\"significant\",\"mother\",\"radio\",\"minutes\",\"almost\",\"initially\",\"coast\",\"research\",\"start\",\"fleet\",\"base\",\"working\",\"allowed\",\"thought\",\"henry\",\"towards\",\"see\",\"come\",\"sound\",\"help\",\"scored\",\"region\",\"worked\",\"hit\",\"stage\",\"joined\",\"points\",\"review\",\"official\",\"director\",\"enough\",\"case\",\"born\",\"believed\",\"wife\",\"recording\",\"others\",\"started\",\"records\",\"replaced\",\"captain\",\"important\",\"soon\",\"every\",\"average\",\"added\",\"non\",\"placed\",\"magazine\",\"population\",\"japanese\",\"able\",\"month\",\"member\",\"squadron\",\"strong\",\"europe\",\"established\",\"washington\",\"football\",\"least\",\"behind\",\"event\",\"decided\",\"addition\",\"art\",\"championship\",\"rather\",\"ground\",\"return\",\"action\",\"saw\",\"france\",\"scene\",\"open\",\"opened\",\"damage\",\"range\",\"features\",\"eastern\",\"ever\",\"body\",\"close\",\"special\",\"playing\",\"reached\",\"level\",\"award\",\"michael\",\"formed\",\"sold\",\"union\",\"chart\",\"summer\",\"brought\",\"heavy\",\"ft\",\"should\",\"taken\",\"completed\",\"weeks\",\"feet\",\"guns\",\"field\",\"george\",\"project\",\"northern\",\"originally\",\"miles\",\"act\",\"created\",\"post\",\"william\",\"james\",\"race\",\"front\",\"common\",\"hurricane\",\"various\",\"office\",\"served\",\"bridge\",\"eventually\",\"felt\",\"campaign\",\"australian\",\"son\",\"characters\",\"how\",\"killed\",\"result\",\"america\",\"appeared\",\"too\",\"located\",\"previous\",\"away\",\"get\",\"sent\",\"head\",\"style\",\"himself\",\"success\",\"design\",\"present\",\"critics\",\"areas\",\"seen\",\"caused\",\"construction\",\"leading\",\"performed\",\"right\",\"fourth\",\"short\",\"star\",\"once\",\"australia\",\"love\",\"live\",\"political\",\"together\",\"center\",\"followed\",\"me\",\"across\",\"law\",\"reported\",\"instead\",\"age\",\"mm\",\"church\",\"college\",\"noted\",\"title\",\"announced\",\"never\",\"highway\",\"station\",\"good\",\"include\",\"players\",\"father\",\"county\",\"southern\",\"modern\",\"low\",\"total\",\"red\",\"fire\",\"track\",\"sea\",\"upon\",\"win\",\"western\",\"developed\",\"recorded\",\"week\",\"remained\",\"given\",\"published\",\"months\",\"attack\",\"rock\",\"writing\",\"performance\",\"women\",\"position\",\"ii\",\"english\",\"produced\",\"eight\",\"light\",\"died\",\"development\",\"division\",\"full\",\"throughout\",\"my\",\"television\",\"country\",\"ships\",\"young\",\"control\",\"per\",\"aircraft\",\"re\",\"royal\",\"came\",\"central\",\"period\",\"london\",\"having\",\"military\",\"less\",\"ten\",\"different\",\"stated\",\"seven\",\"little\",\"songs\",\"president\",\"night\",\"run\",\"island\",\"street\",\"land\",\"order\",\"forces\",\"went\",\"gave\",\"class\",\"making\",\"few\",\"court\",\"tropical\",\"lead\",\"take\",\"children\",\"town\",\"tour\",\"match\",\"without\",\"using\",\"similar\",\"often\",\"moved\",\"building\",\"play\",\"white\",\"despite\",\"still\",\"version\",\"black\",\"german\",\"point\",\"become\",\"st\",\"form\",\"international\",\"do\",\"further\",\"returned\",\"story\",\"service\",\"members\",\"university\",\"written\",\"lost\",\"even\",\"park\",\"local\",\"player\",\"public\",\"power\",\"continued\",\"party\",\"considered\",\"half\",\"career\",\"french\",\"held\",\"club\",\"former\",\"force\",\"small\",\"support\",\"england\",\"record\",\"ship\",\"character\",\"though\",\"again\",\"top\",\"make\",\"now\",\"de\",\"near\",\"water\",\"route\",\"we\",\"late\",\"air\",\"man\",\"those\",\"days\",\"next\",\"way\",\"according\",\"book\",\"name\",\"death\",\"played\",\"release\",\"side\",\"storm\",\"species\",\"league\",\"won\",\"very\",\"production\",\"men\",\"built\",\"february\",\"king\",\"battle\",\"original\",\"named\",\"wrote\",\"january\",\"included\",\"role\",\"among\",\"general\",\"army\",\"history\",\"led\",\"set\",\"old\",\"described\",\"family\",\"york\",\"great\",\"times\",\"video\",\"last\",\"left\",\"own\",\"river\",\"six\",\"major\",\"within\",\"what\",\"place\",\"down\",\"march\",\"road\",\"main\",\"large\",\"band\",\"system\",\"will\",\"april\",\"government\",\"home\",\"just\",\"based\",\"house\",\"line\",\"much\",\"company\",\"june\",\"east\",\"july\",\"december\",\"school\",\"november\",\"along\",\"games\",\"took\",\"group\",\"if\",\"area\",\"october\",\"us\",\"john\",\"received\",\"any\",\"five\",\"third\",\"british\",\"show\",\"found\",\"century\",\"single\",\"you\",\"august\",\"west\",\"another\",\"due\",\"off\",\"september\",\"use\",\"million\",\"same\",\"best\",\"long\",\"final\",\"like\",\"life\",\"km\",\"national\",\"people\",\"known\",\"back\",\"each\",\"work\",\"around\",\"began\",\"although\",\"could\",\"because\",\"american\",\"since\",\"end\",\"said\",\"released\",\"called\",\"until\",\"high\",\"following\",\"so\",\"states\",\"did\",\"music\",\"day\",\"south\",\"these\",\"four\",\"state\",\"well\",\"early\",\"including\",\"episode\",\"number\",\"north\",\"united\",\"being\",\"part\",\"both\",\"can\",\"under\",\"many\",\"several\",\"against\",\"city\",\"team\",\"through\",\"album\",\"became\",\"then\",\"song\",\"series\",\"them\",\"used\",\"may\",\"however\",\"where\",\"season\",\"no\",\"war\",\"world\",\"made\",\"second\",\"some\",\"years\",\"such\",\"before\",\"year\",\"about\",\"film\",\"there\",\"between\",\"th\",\"out\",\"three\",\"most\",\"up\",\"him\",\"than\",\"later\",\"only\",\"over\",\"while\",\"game\",\"more\",\"all\",\"other\",\"would\",\"into\",\"during\",\"time\",\"when\",\"she\",\"has\",\"have\",\"been\",\"new\",\"who\",\"or\",\"two\",\"they\",\"also\",\"its\",\"one\",\"her\",\"their\",\"after\",\"not\",\"are\",\"but\",\"first\",\"this\",\"be\",\"which\",\"had\",\"an\",\"were\",\"from\",\"it\",\"at\",\"he\",\"his\",\"is\",\"by\",\"with\",\"that\",\"for\",\"as\",\"on\",\"was\",\"to\",\"in\",\"and\",\"of\",\"the\"],\"x1\":{\"__ndarray__\":\"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\",\"dtype\":\"float32\",\"shape\":[1000]},\"x2\":{\"__ndarray__\":\"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\",\"dtype\":\"float32\",\"shape\":[1000]}}},\"id\":\"30997031-ea9a-4c44-940f-ad23e3418d94\",\"type\":\"ColumnDataSource\"},{\"attributes\":{\"formatter\":{\"id\":\"82d59192-624d-426c-b01b-24253060e06c\",\"type\":\"BasicTickFormatter\"},\"plot\":{\"id\":\"ae2f7060-f988-4a48-9f14-22e109c44ff4\",\"subtype\":\"Figure\",\"type\":\"Plot\"},\"ticker\":{\"id\":\"1e6427c6-9dc8-4359-9ee1-22beef060d97\",\"type\":\"BasicTicker\"}},\"id\":\"cfa88601-813e-48df-8346-39504e25cfdd\",\"type\":\"LinearAxis\"},{\"attributes\":{\"fill_alpha\":{\"value\":0.1},\"fill_color\":{\"value\":\"#1f77b4\"},\"line_alpha\":{\"value\":0.1},\"line_color\":{\"value\":\"#1f77b4\"},\"size\":{\"units\":\"screen\",\"value\":8},\"x\":{\"field\":\"x1\"},\"y\":{\"field\":\"x2\"}},\"id\":\"e839e2be-3176-49d8-8a47-4ae6cd6b2c0d\",\"type\":\"Circle\"},{\"attributes\":{\"plot\":{\"id\":\"ae2f7060-f988-4a48-9f14-22e109c44ff4\",\"subtype\":\"Figure\",\"type\":\"Plot\"},\"ticker\":{\"id\":\"1e6427c6-9dc8-4359-9ee1-22beef060d97\",\"type\":\"BasicTicker\"}},\"id\":\"cd06ee03-7026-4395-93bc-04afcf3c5fac\",\"type\":\"Grid\"},{\"attributes\":{},\"id\":\"11bd9d05-a8d5-42e7-baaa-dde87463ae83\",\"type\":\"ResetTool\"}],\"root_ids\":[\"ae2f7060-f988-4a48-9f14-22e109c44ff4\"]},\"title\":\"Bokeh Application\",\"version\":\"0.12.10\"}};\n",
       "    var render_items = [{\"docid\":\"99e408d1-5d52-4b39-b83a-6b21f080d7f7\",\"elementid\":\"ba88f777-d87f-4c3a-b439-62351fd1486b\",\"modelid\":\"ae2f7060-f988-4a48-9f14-22e109c44ff4\"}];\n",
       "\n",
       "    root.Bokeh.embed.embed_items(docs_json, render_items);\n",
       "  }\n",
       "\n",
       "  if (root.Bokeh !== undefined) {\n",
       "    embed_document(root);\n",
       "  } else {\n",
       "    var attempts = 0;\n",
       "    var timer = setInterval(function(root) {\n",
       "      if (root.Bokeh !== undefined) {\n",
       "        embed_document(root);\n",
       "        clearInterval(timer);\n",
       "      }\n",
       "      attempts++;\n",
       "      if (attempts > 100) {\n",
       "        console.log(\"Bokeh: ERROR: Unable to embed document because BokehJS library is missing\")\n",
       "        clearInterval(timer);\n",
       "      }\n",
       "    }, 10, root)\n",
       "  }\n",
       "})(window);"
      ],
      "application/vnd.bokehjs_exec.v0+json": ""
     },
     "metadata": {
      "application/vnd.bokehjs_exec.v0+json": {
       "id": "ae2f7060-f988-4a48-9f14-22e109c44ff4"
      }
     },
     "output_type": "display_data"
    }
   ],
   "source": [
    "p = figure(tools=\"pan,wheel_zoom,reset,save\",\n",
    "           toolbar_location=\"above\",\n",
    "           title=\"word2vec T-SNE for most common words\")\n",
    "\n",
    "source = ColumnDataSource(data=dict(x1=words_top_wiki_tsne[:,0],\n",
    "                                    x2=words_top_wiki_tsne[:,1],\n",
    "                                    names=words_top_wiki))\n",
    "\n",
    "p.scatter(x=\"x1\", y=\"x2\", size=8, source=source)\n",
    "\n",
    "labels = LabelSet(x=\"x1\", y=\"x2\", text=\"names\", y_offset=6,\n",
    "                  text_font_size=\"8pt\", text_color=\"#555555\",\n",
    "                  source=source, text_align='center')\n",
    "p.add_layout(labels)\n",
    "\n",
    "show(p)"
   ]
  },
  {
   "cell_type": "code",
   "execution_count": null,
   "metadata": {},
   "outputs": [],
   "source": []
  }
 ],
 "metadata": {
  "anaconda-cloud": {},
  "kernelspec": {
   "display_name": "Python 3",
   "language": "python",
   "name": "python3"
  },
  "language_info": {
   "codemirror_mode": {
    "name": "ipython",
    "version": 3
   },
   "file_extension": ".py",
   "mimetype": "text/x-python",
   "name": "python",
   "nbconvert_exporter": "python",
   "pygments_lexer": "ipython3",
   "version": "3.6.3"
  }
 },
 "nbformat": 4,
 "nbformat_minor": 1
}
